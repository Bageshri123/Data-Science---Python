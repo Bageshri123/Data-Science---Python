{
  "nbformat": 4,
  "nbformat_minor": 0,
  "metadata": {
    "colab": {
      "name": "Copy of Lists and Tuples 1.ipynb",
      "provenance": [],
      "include_colab_link": true
    },
    "kernelspec": {
      "name": "python3",
      "display_name": "Python 3"
    },
    "language_info": {
      "name": "python"
    }
  },
  "cells": [
    {
      "cell_type": "markdown",
      "metadata": {
        "id": "view-in-github",
        "colab_type": "text"
      },
      "source": [
        "<a href=\"https://colab.research.google.com/github/Bageshri123/Data-Science---Python/blob/main/Copy_of_Lists_and_Tuples_1.ipynb\" target=\"_parent\"><img src=\"https://colab.research.google.com/assets/colab-badge.svg\" alt=\"Open In Colab\"/></a>"
      ]
    },
    {
      "cell_type": "markdown",
      "metadata": {
        "id": "Z-M-RCWATK71"
      },
      "source": [
        "# Lists and tuples\n",
        "\n",
        "Often we need to store a number of single items of data together so that they can be processed together. This might be because all the data refers to one person (e.g. name, age, gender, etc) OR it might be because we have a set of data (e.g. all the items that should be displayed in a drop down list, such as all the years from this year back to 100 years ago so that someone can select their year of birth)\n",
        "\n",
        "Python has a range of data structures available including:\n",
        "*   lists  \n",
        "*   tuples  \n",
        "*   dictionaries  \n",
        "*   sets\n",
        "\n",
        "This worksheet looks at lists and tuples.\n",
        "\n",
        "## List\n",
        "A list is a set of related, individual data objects, that are indexed and can be processed as a whole, as subsets or as individual items.  Lists are stored, essentially, as contiguous items in memory so that access can be as quick as possible.  However, they are mutable (they can be changed after they are created and stored) and so those mechanisms need to include extra functionality to deal with changing list sizes.\n",
        "\n",
        "## Tuple\n",
        "Essentially the same as a list but it is immutable.  Once it has been created it can't be changed.  It is stored in memory as contiguous items, with the size required being fixed right from the start.  This makes it faster to access.\n",
        "\n",
        "The code below will create two lists and a tuple.\n",
        "*   the first list contains 1000 random numbers between 1 and 100\n",
        "*   the second list is of random length (up to 5000) and each item is one of the 9 characteristics that are protected under the Equality Act in the UK.\n",
        "*   the tuple contains the 9 protected characteristics\n",
        "\n",
        "Before you start the exercises, run the code below.  It will generate the lists and tuple so that you can use them in the exercises.  If you need to recreate the lists again (because you have changed them and need to work on the originals, just run this cell again).\n",
        "\n",
        "***Note:***  *a list variable contains a reference to the start of the list in memory, rather than storing the list itself.  This means that if you assign the list to another variable (to make a copy), it will only copy across the reference.  If you change the copy, you change the original list.*\n",
        "\n",
        "*If you need to make a copy of the list you will need to use a loop to create a new list and copy all items across.*"
      ]
    },
    {
      "cell_type": "code",
      "metadata": {
        "id": "BDRckXeQXFMT"
      },
      "source": [
        "from random import randint, choice\n",
        "\n",
        "def get_num_list():\n",
        "  num_list = [randint(1,100) for n in range(1000)]\n",
        "  return num_list\n",
        "\n",
        "def get_protected_characteristics():\n",
        "  characteristics_tuple = ('age','disability','gender reassignment','marriage and civil partnership','pregnancy and maternity','race','religion or belief','sex','sexual orientation')\n",
        "  return characteristics_tuple\n",
        "\n",
        "def get_protected_characteristic_list(protected_characteristics):\n",
        "  char_list = [choice(protected_characteristics) for ch in range(randint(1,5000))]\n",
        "  return char_list\n",
        "\n",
        "nums = get_num_list()\n",
        "protected_characteristics = get_protected_characteristics()\n",
        "characteristics = get_protected_characteristic_list(protected_characteristics)"
      ],
      "execution_count": null,
      "outputs": []
    },
    {
      "cell_type": "markdown",
      "metadata": {
        "id": "xXT38-4ZV45n"
      },
      "source": [
        "## The exercises below will use the lists:  \n",
        "*   **nums** (a list of between 1 and 1000 random numbers, each number is between 0 and 1000)\n",
        "*   **characteristics** (a list of 5000 random protected_characteristics)\n",
        "\n",
        "and the tuple:\n",
        "*  **protected_characteristics** (a set of the 9 protected characteristics identified in the Equality Act)\n",
        "\n",
        "## You can run the cell above any number of times to generate new lists."
      ]
    },
    {
      "cell_type": "markdown",
      "metadata": {
        "id": "Ft0dXl7fUuaK"
      },
      "source": [
        "---\n",
        "### Exercise 1 - list head, tail and shape\n",
        "\n",
        "Write a function, **describe_list()** which will:\n",
        "*  print the length of the list `nums`\n",
        "*  print the first 10 items in `nums`  \n",
        "*  print the last 5 items in `nums`"
      ]
    },
    {
      "cell_type": "code",
      "metadata": {
        "id": "jUcZD7mmTJdA",
        "colab": {
          "base_uri": "https://localhost:8080/"
        },
        "outputId": "fbcc09ef-3b96-4bbb-db1b-197505167475"
      },
      "source": [
        "def describe_list():\n",
        "  print(len(nums)) \n",
        "  print(nums[:10]) #first 10 items from list\n",
        "  print(nums[-5:])  #last 5 items from list\n",
        "\n",
        "\n",
        "describe_list()"
      ],
      "execution_count": null,
      "outputs": [
        {
          "output_type": "stream",
          "text": [
            "1000\n",
            "[86, 5, 66, 51, 75, 82, 29, 51, 5, 26]\n",
            "[10, 13, 58, 11, 53]\n"
          ],
          "name": "stdout"
        }
      ]
    },
    {
      "cell_type": "markdown",
      "metadata": {
        "id": "yNWg08k6bXv0"
      },
      "source": [
        "---\n",
        "### Exercise 2 - show tuple items\n",
        "\n",
        "Write a function which will:\n",
        "*   use a loop to print the list of protected characteristics from the `protected_characteristics` tuple.\n"
      ]
    },
    {
      "cell_type": "code",
      "metadata": {
        "id": "P2HnCG9pb1BS",
        "colab": {
          "base_uri": "https://localhost:8080/"
        },
        "outputId": "b0b4ebd7-8469-49ac-f422-901c2676159f"
      },
      "source": [
        "def print_tuple():\n",
        "  for i in range(len(protected_characteristics)):\n",
        "    print(protected_characteristics[i])\n",
        "\n",
        "\n",
        "print_tuple()"
      ],
      "execution_count": null,
      "outputs": [
        {
          "output_type": "stream",
          "text": [
            "age\n",
            "disability\n",
            "gender reassignment\n",
            "marriage and civil partnership\n",
            "pregnancy and maternity\n",
            "race\n",
            "religion or belief\n",
            "sex\n",
            "sexual orientation\n"
          ],
          "name": "stdout"
        }
      ]
    },
    {
      "cell_type": "markdown",
      "metadata": {
        "id": "RTSuQZs4b1JU"
      },
      "source": [
        "---\n",
        "### Exercise 3 - list a random subset\n",
        "\n",
        "Write a function which will:\n",
        "*  calculate the position of the middle item in the `characteristics` list   \n",
        "(*Hint: use len() to help with this*)\n",
        "*  calculate the position of the item that is 5 places before the middle item\n",
        "*  calculate the position of the item that is 5 places after the middle item\n",
        "*  print the part of the list that includes the items from 5 places before to 5 places after.  \n",
        "\n",
        "Expected output:  \n",
        "Your list will include 11 items."
      ]
    },
    {
      "cell_type": "code",
      "metadata": {
        "id": "OwhFnH2kdC11",
        "colab": {
          "base_uri": "https://localhost:8080/"
        },
        "outputId": "5f696529-c7dc-43ec-f3a2-152c8dd546c3"
      },
      "source": [
        "def find_position():\n",
        "  middle=round(len(characteristics)/2)\n",
        "  plusFive=middle+5\n",
        "  minusFive=middle-5\n",
        "  print(characteristics[minusFive:plusFive+1]) #to print middle 11 items from the list\n",
        "\n",
        "\n",
        "\n",
        "find_position()\n",
        "  \n"
      ],
      "execution_count": null,
      "outputs": [
        {
          "output_type": "stream",
          "text": [
            "['religion or belief', 'age', 'marriage and civil partnership', 'marriage and civil partnership', 'marriage and civil partnership', 'race', 'disability', 'pregnancy and maternity', 'gender reassignment', 'sex', 'race']\n"
          ],
          "name": "stdout"
        }
      ]
    },
    {
      "cell_type": "markdown",
      "metadata": {
        "id": "KS0x3oFNePI9"
      },
      "source": [
        "---\n",
        "### Exercise 4 - create a copy\n",
        "\n",
        "Write a function which will: use a for loop to create a copy of the `nums` list:\n",
        "\n",
        "*   create a new, empty, list called **new_nums**  (*Hint: an empty list is [ ]*)\n",
        "*   use a for loop which uses the following syntax:  `for num in nums:`\n",
        "*   each time round the loop append `num` to `new_nums`  ( *`new_nums.append(num)`*)\n",
        "*   print the first 10 items of `new_nums`\n",
        "*   print the first 10 items of `nums`\n",
        "*   print the length of both lists"
      ]
    },
    {
      "cell_type": "code",
      "metadata": {
        "id": "mpK1Ip3we-uC",
        "colab": {
          "base_uri": "https://localhost:8080/"
        },
        "outputId": "0497b049-b2cd-4722-b150-743ab763e335"
      },
      "source": [
        "def create_list_copy():\n",
        "  new_nums=[]\n",
        "  for num in nums:\n",
        "    new_nums.append(num) \n",
        "\n",
        "  print(\"First 10 items from new list:\",new_nums[:10])\n",
        "  print(\"First 10 items from original list:\",nums[:10])\n",
        "  print(\"Lenght of new list:\",len(new_nums),\"\\nLength of Original list:\",len(nums))\n",
        "\n",
        "\n",
        "create_list_copy()"
      ],
      "execution_count": null,
      "outputs": [
        {
          "output_type": "stream",
          "text": [
            "First 10 items from new list: [86, 5, 66, 51, 75, 82, 29, 51, 5, 26]\n",
            "First 10 items from original list: [86, 5, 66, 51, 75, 82, 29, 51, 5, 26]\n",
            "Lenght of new list: 1000 \n",
            "Length of Original list: 1000\n"
          ],
          "name": "stdout"
        }
      ]
    },
    {
      "cell_type": "markdown",
      "metadata": {
        "id": "zm2VI5RmfoSy"
      },
      "source": [
        "---\n",
        "### Exercise 6 - sort the nums list\n",
        "\n",
        "Write a function which will:\n",
        "*   call the function `get_num_list()` and store the result in a new list called **sort_nums**\n",
        "*   print the first, and last, 20 items in the `sort_nums` list\n",
        "*   use the `list_name.sort()` method to sort the `sort_nums` list into ascending order\n",
        "*   print the first, and last, 20 items again  \n",
        "*   use the `list_name.sort()` method again to sort the `sort_nums` list into descending order\n",
        "*   print the first, and last, 20 items again"
      ]
    },
    {
      "cell_type": "code",
      "metadata": {
        "id": "Fksgpj9JgWDs",
        "colab": {
          "base_uri": "https://localhost:8080/"
        },
        "outputId": "769d19ac-4858-431d-98ae-14a1222ee088"
      },
      "source": [
        "def sort_list():\n",
        "  sort_nums=get_num_list()\n",
        "  print(\"First 20 items\",sort_nums[:20])\n",
        "  print(\"Last 20 items:\",sort_nums[-20:])\n",
        "  sort_nums.sort()\n",
        "  print(\"First 20 items ascending order:\",sort_nums[:20])\n",
        "  print(\"Last 20 items ascending order:\",sort_nums[-20:])\n",
        "  sort_nums.sort(reverse=True)\n",
        "  print(\"First 20 items descending order:\",sort_nums[:20])\n",
        "  print(\"Last 20 items descending order:\",sort_nums[-20:])\n",
        "\n",
        "\n",
        "\n",
        "sort_list()"
      ],
      "execution_count": null,
      "outputs": [
        {
          "output_type": "stream",
          "text": [
            "First 20 items [97, 72, 63, 43, 82, 60, 2, 61, 8, 7, 48, 93, 68, 32, 67, 29, 52, 99, 62, 39]\n",
            "Last 20 items: [80, 75, 33, 30, 46, 38, 26, 69, 84, 1, 66, 51, 53, 66, 84, 89, 54, 16, 1, 45]\n",
            "First 20 items ascending order: [1, 1, 1, 1, 1, 1, 1, 1, 1, 2, 2, 2, 2, 2, 3, 3, 3, 3, 3, 3]\n",
            "Last 20 items ascending order: [99, 99, 99, 99, 99, 99, 100, 100, 100, 100, 100, 100, 100, 100, 100, 100, 100, 100, 100, 100]\n",
            "First 20 items descending order: [100, 100, 100, 100, 100, 100, 100, 100, 100, 100, 100, 100, 100, 100, 99, 99, 99, 99, 99, 99]\n",
            "Last 20 items descending order: [3, 3, 3, 3, 3, 3, 2, 2, 2, 2, 2, 1, 1, 1, 1, 1, 1, 1, 1, 1]\n"
          ],
          "name": "stdout"
        }
      ]
    },
    {
      "cell_type": "markdown",
      "metadata": {
        "id": "_OF-Xuj1UrW0"
      },
      "source": [
        "---\n",
        "### Exercise 7 - get statistics (max(), min(), sum() )\n",
        "\n",
        "Write a function which will:\n",
        "*   print the maximum and minimum numbers in the `nums` list  \n",
        "*   print the sum of the `nums` list\n",
        "*   calculate and print the average of the `nums` list (using `len()` to help)"
      ]
    },
    {
      "cell_type": "code",
      "metadata": {
        "id": "9YmYMenZVGod",
        "colab": {
          "base_uri": "https://localhost:8080/"
        },
        "outputId": "db0e21b6-7f33-4455-8049-005191b44bd1"
      },
      "source": [
        "def get_statistics():\n",
        "  print(\"Maximum number:\",max(nums))\n",
        "  print(\"Minimum number:\",min(nums))\n",
        "  print(\"Sum of list numbers:\",sum(nums))\n",
        "  print(\"Average of list numbers:\",(sum(nums)/len(nums)))\n",
        "\n",
        "\n",
        "get_statistics()\n"
      ],
      "execution_count": null,
      "outputs": [
        {
          "output_type": "stream",
          "text": [
            "Maximum number: 100\n",
            "Minimum number: 1\n",
            "Sum of list numbers: 52575\n",
            "Average of list numbers: 52.575\n"
          ],
          "name": "stdout"
        }
      ]
    },
    {
      "cell_type": "markdown",
      "metadata": {
        "id": "Mn4tHQ_KVbHa"
      },
      "source": [
        "---\n",
        "### Exercise 8 - percentage difference\n",
        "\n",
        "Write a function which will:\n",
        "*   generate a new list called **ex8_nums** using `get_num_list()`\n",
        "*   calculate and print the percentage of the first number in `ex8_nums` that is the difference between it and the first number in `nums` (subtract **ex8_num** from **num**, divide by `nums` and multiply by 100)\n",
        "*   calculate and print the percentage difference between the last numbers in each list in the same way\n",
        "*   calculate and print the percentage difference between the middle numbers in each list in the same way.\n",
        "*   calculate and print the percentage difference between the sums of each list in the same way"
      ]
    },
    {
      "cell_type": "code",
      "metadata": {
        "id": "nJCQjZIeZL0e",
        "colab": {
          "base_uri": "https://localhost:8080/"
        },
        "outputId": "b341727d-1173-4155-b3c6-efd9d61474c4"
      },
      "source": [
        "def get_percentage_diff():\n",
        "  ex8_nums=get_num_list()\n",
        "  print(\"Percentage differance between first numbers:\",((nums[0]-ex8_nums[0])/nums[0]*100))\n",
        "  print(\"Percentage differance between last numbers:\",((nums[-1]-ex8_nums[-1])/nums[-1]*100))\n",
        "  mid_e=round(len(ex8_nums)/2)\n",
        "  mid_n=round(len(nums)/2)\n",
        "  print(\"Percentage differance between middle numbers:\",((nums[mid_n]-ex8_nums[mid_e])/nums[mid_n]*100))\n",
        "  print(\"Percentage differance between sums:\",((sum(nums)-sum(ex8_nums))/sum(nums)*100))\n",
        "   \n",
        "  \n",
        "get_percentage_diff()"
      ],
      "execution_count": null,
      "outputs": [
        {
          "output_type": "stream",
          "text": [
            "Percentage differance between first numbers: -52.459016393442624\n",
            "Percentage differance between last numbers: 10.714285714285714\n",
            "Percentage differance between middle numbers: 21.27659574468085\n",
            "Percentage differance between sums: -0.6586933593361326\n"
          ],
          "name": "stdout"
        }
      ]
    },
    {
      "cell_type": "markdown",
      "metadata": {
        "id": "HNs3lZmYawFO"
      },
      "source": [
        "---\n",
        "### Exercise 9 - characteristic counts\n",
        "\n",
        "Write a function which will:\n",
        "*  iterate through the `protected_characteristics` tuple and for each **characteristic**:\n",
        "*   *   count the number of occurrences of that `characteristic` in the `characteristics` list\n",
        "*   *   print the `protected_characteristic` and the **count**  \n",
        "\n",
        "Example expected output:\n",
        "\n",
        "age 100  \n",
        "disability 120  \n",
        "gender reassignment 120  \n",
        "marriage and civil partnership 111  \n",
        "pregnancy and maternity 103  \n",
        "race 106  \n",
        "religion or belief 95  \n",
        "sex 110  \n",
        "sexual orientation 113  \n",
        "\n",
        "Extra learning:  you can read [here](https://thispointer.com/python-how-to-pad-strings-with-zero-space-or-some-other-character/) how to justify the printed characteristic so that the output is organised into two columns as shown below:  \n",
        "![tabulated output](https://drive.google.com/uc?id=1CCXfX6K5ZeDefnq7vUsqxCDmqvcfY8Mz)\n",
        "\n",
        "\n",
        "\n"
      ]
    },
    {
      "cell_type": "code",
      "metadata": {
        "id": "GURT11albqUs",
        "colab": {
          "base_uri": "https://localhost:8080/"
        },
        "outputId": "a8780b0a-f891-45f7-db1d-df252e626b4d"
      },
      "source": [
        "def get_char_count():\n",
        "  print(\"Protected Characteristics\".ljust(35,' '),\"Frequency\")\n",
        "  for i in range(len(protected_characteristics)):\n",
        "    sum=0\n",
        "    for j in range(len(characteristics)):\n",
        "      if protected_characteristics[i]==characteristics[j]:\n",
        "        sum+=1\n",
        "    print(protected_characteristics[i].ljust(35,' '),sum)\n",
        "\n",
        "\n",
        "get_char_count()\n"
      ],
      "execution_count": null,
      "outputs": [
        {
          "output_type": "stream",
          "text": [
            "Protected Characteristics           Frequency\n",
            "age                                 171\n",
            "disability                          211\n",
            "gender reassignment                 222\n",
            "marriage and civil partnership      198\n",
            "pregnancy and maternity             171\n",
            "race                                168\n",
            "religion or belief                  174\n",
            "sex                                 175\n",
            "sexual orientation                  204\n"
          ],
          "name": "stdout"
        }
      ]
    },
    {
      "cell_type": "markdown",
      "metadata": {
        "id": "9Po7yQj-ds38"
      },
      "source": [
        "---\n",
        "### Exercise 10 - characteristics statistics\n",
        "\n",
        "Assuming that the `characteristics` list may have been taken from a study of cases that have been taken to court in relation to the Equality Act.  \n",
        "\n",
        "Write a function which will:\n",
        "\n",
        "*   find the most common characteristic resulting in court action, from this population\n",
        "*   print this in a message, e.g. The characteristic with the highest number of court cases is:  *characteristic*\n",
        "*   print the list of `protected_characteristics`, on one line if possible - see [here](https://www.geeksforgeeks.org/g-fact-25-print-single-multiple-variable-python/)\n",
        "*   ask the user to enter a characteristic that they would like to see statistics on and use a while loop to continue until the user has entered a valid characteristic\n",
        "*   print the characteristic, its frequency and the percentage that this frequency is of the whole population."
      ]
    },
    {
      "cell_type": "code",
      "metadata": {
        "id": "uk_I5z7UgbDs",
        "colab": {
          "base_uri": "https://localhost:8080/"
        },
        "outputId": "8e58f549-d161-4332-9ee3-10cb9d3290e2"
      },
      "source": [
        "from statistics import mode\n",
        "def char_statistics():\n",
        "  print(\"The characteristic with the highest number of court cases is:\",mode(characteristics))\n",
        "  print(\"\\nList of protected characteristics:\")\n",
        "  print(','.join(protected_characteristics))\n",
        "  char=' '\n",
        "  frequency=0\n",
        "  while char not in(protected_characteristics):\n",
        "    char=input(\"\\nEnter the characteristic that you would like to see statistics of:\")\n",
        "  for i in range(len(characteristics)):\n",
        "    if characteristics[i]==char:\n",
        "      frequency+=1\n",
        "  percentage=round((frequency/len(characteristics))*100,2)\n",
        "  print(char,\"has frequency\",frequency)\n",
        "  print(\"And this is\",percentage,\"% of the whole population\")\n",
        "  \n",
        "\n",
        "char_statistics()\n"
      ],
      "execution_count": null,
      "outputs": [
        {
          "output_type": "stream",
          "text": [
            "The characteristic with the highest number of court cases is: gender reassignment\n",
            "\n",
            "List of protected characteristics:\n",
            "age,disability,gender reassignment,marriage and civil partnership,pregnancy and maternity,race,religion or belief,sex,sexual orientation\n",
            "\n",
            "Enter the characteristic that you would like to see statistics of:race\n",
            "race has frequency 168\n",
            "And this is 9.92 % of the whole population\n"
          ],
          "name": "stdout"
        }
      ]
    }
  ]
}