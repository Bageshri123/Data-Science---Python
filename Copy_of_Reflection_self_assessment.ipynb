{
  "nbformat": 4,
  "nbformat_minor": 0,
  "metadata": {
    "colab": {
      "name": "Copy of Reflection-self-assessment.ipynb",
      "provenance": [],
      "include_colab_link": true
    },
    "kernelspec": {
      "name": "python3",
      "display_name": "Python 3"
    },
    "language_info": {
      "name": "python"
    }
  },
  "cells": [
    {
      "cell_type": "markdown",
      "metadata": {
        "id": "view-in-github",
        "colab_type": "text"
      },
      "source": [
        "<a href=\"https://colab.research.google.com/github/Bageshri123/Data-Science---Python/blob/main/Copy_of_Reflection_self_assessment.ipynb\" target=\"_parent\"><img src=\"https://colab.research.google.com/assets/colab-badge.svg\" alt=\"Open In Colab\"/></a>"
      ]
    },
    {
      "cell_type": "markdown",
      "metadata": {
        "id": "rZjqhF0NXKBW"
      },
      "source": [
        "# Reflection and self-assessment\n",
        "\n",
        "---\n"
      ]
    },
    {
      "cell_type": "markdown",
      "metadata": {
        "id": "60dyofsmXPGL"
      },
      "source": [
        "## Self-assessment - Python programming\n",
        "\n",
        "### You are going to assess your progress in the programming part of this module, using a ranking system, then you are going to write a set of functions that will allow you to demonstrate your skills, knowledge and understanding.\n",
        "\n",
        "Reflect on your programming so far in this course.  For each of the criteria below, rank yourself from 1 to 10 using the information below to guide you.  Use the numbers between 1 and 5 and between 5 and 10 to indicate which you are closer to.   \n",
        "\n",
        "10 = totally confident that you can do this  \n",
        "5  = starting to feel confident  \n",
        "1  = not confident at all  \n",
        "\n",
        "---\n",
        "\n",
        "1.  Use basic programming concepts and notebooks independently to produce simple coded solutions.  **10**\n",
        "\n",
        "2.  Code and document inputs, outputs and processes within simple Python programs **8**\n",
        "\n",
        "3.  Use variables of a range of types within working Python code **10**\n",
        "\n",
        "4.  Explain coded solutions clearly through well-placed comments **8**\n",
        "\n",
        "5.  Develop Python coded solutions which process lists of data  **6**\n",
        "\n",
        "6.  Use meaningful data and function names  **10**\n",
        "\n",
        "7.  Select and use if statements correctly for given problems  **10**\n",
        "\n",
        "8.  Select and use appropriate loops correctly for given problems  **9**\n",
        "\n",
        "9.  Demonstrate clear understanding of selection and repetition by using them appropriately in combination  **10**\n",
        "\n",
        "10.  Identify and use in-built and imported library functions  **8**\n",
        "\n",
        "11.  Develop and test the output of user-defined functions     **9**\n",
        "\n",
        "12.  Demonstrate clear understanding of external functions and custom functions and choose or write them appropriately      **8**\n",
        "\n",
        "13.  Use Google Colabs and Github together to regularly store copies of code notebooks   **10**\n",
        "\n",
        "14.  Produce code that is free from obvious errors  **10**\n",
        "\n",
        "15.  Write neat and readable code (blank lines for spacing, indentation, relevant function naming, relevant variable naming.   **10**\n",
        "\n",
        "16.  Use basic technical language to explain coded solutions  **9**\n",
        "\n",
        "17.  Identify obvious errors and look for opportunities to make code faster, more robust or more secure.    **9**\n",
        "\n",
        "\n",
        "## Challenge problem\n",
        "\n",
        "1.  Create a list of the criteria.  Each of the criteria should be stored as a string in the list.   \n",
        "2.  Create a second list which contains your ranks as a list of numbers.\n",
        "\n",
        "Give each list a relevant variable name.\n",
        "\n",
        "Determine the expected output and then write functions to find and display the following:\n",
        "*  average ranking\n",
        "*  the criteria with the highest ranking (there may be more than one)  \n",
        "*  the criteria with the lowest ranking (there may be more than one)\n",
        "*  the most common ranking level and all the criteria with that ranking\n",
        "*  the median ranking and the first criterion that has that ranking (the median should be found by sorting the ranking list from lowest to highest rank and finding the one in the middle.  The criterion will be the first one with that ranking in the original criteria list).\n",
        "\n",
        "Use text cells to explain what each function does and what the expected output is.  Use a code cell for each function.\n"
      ]
    },
    {
      "cell_type": "code",
      "metadata": {
        "id": "im660yKGXJJN",
        "colab": {
          "base_uri": "https://localhost:8080/"
        },
        "outputId": "52d4f611-e5ee-42df-968e-c4ccc0789e9c"
      },
      "source": [
        "criteria=[\"Use basic programming concepts and notebooks independently to produce simple coded solutions\",\n",
        "          \"Code and document inputs, outputs and processes within simple Python programs\", \n",
        "          \"Use variables of a range of types within working Python code\",\n",
        "          \"Explain coded solutions clearly through well-placed comments\",\n",
        "          \"Develop Python coded solutions which process lists of data\",\n",
        "          \"Use meaningful data and function names\",\n",
        "          \"Select and use if statements correctly for given problems\",\n",
        "          \"Select and use appropriate loops correctly for given problems\",\n",
        "          \"Demonstrate clear understanding of selection and repetition by using them appropriately in combination\",\n",
        "          \"Identify and use in-built and imported library functions\",\n",
        "          \"Develop and test the output of user-defined functions\",\n",
        "          \"Demonstrate clear understanding of external functions and custom functions and choose or write them appropriately\",\n",
        "          \"Use Google Colabs and Github together to regularly store copies of code notebooks\",\n",
        "          \"Produce code that is free from obvious errors\",\n",
        "          \"Write neat and readable code (blank lines for spacing, indentation, relevant function naming, relevant variable naming)\",\n",
        "          \"Use basic technical language to explain coded solutions\",\n",
        "          \"Identify obvious errors and look for opportunities to make code faster, more robust or more secure\"]\n",
        "\n",
        "ranks=[10,8,10,8,6,10,10,9,10,8,9,8,10,10,10,9,9]\n",
        "\n",
        "#function to calculate average ranking\n",
        "def get_average_rank(ranks):\n",
        "  average=sum(ranks)/len(ranks)\n",
        "  return round(average,2)\n",
        "\n",
        "#function to find highest ranking criterias\n",
        "def highest_rank_Cat(ranks):\n",
        "  ranks1=ranks.copy()\n",
        "  ranks1.sort()\n",
        "  highest=ranks1[-1]\n",
        "  print(\"\\nFollowing criterias have highest ranking which is\",highest,\"\\n\")\n",
        "  for i in range(len(ranks)):\n",
        "    if ranks[i]==highest:\n",
        "      print(criteria[i])\n",
        "\n",
        "#function to find lowest ranking criterias\n",
        "def lowest_rank_Cat(ranks):\n",
        "  ranks1=ranks.copy()\n",
        "  ranks1.sort()\n",
        "  lowest=ranks1[0]\n",
        "  print(\"\\nFollowing criterias have lowest ranking which is\",lowest,\"\\n\")\n",
        "  for i in range(len(ranks)):\n",
        "    if ranks[i]==lowest:\n",
        "      print(criteria[i])\n",
        "\n",
        "\n",
        "#function to find most common ranking level and criterais with that ranking\n",
        "def most_common_rank_cat(ranks):\n",
        "  import statistics\n",
        "  mode=statistics.mode(ranks)\n",
        "  print(\"\\nMost common range is\",mode,\"And criterias with this ranking :\\n\")\n",
        "  for i in range(len(ranks)):\n",
        "    if ranks[i]==mode:\n",
        "      print(criteria[i])\n",
        "\n",
        "#function to find median ranking and first criteria with that ranking\n",
        "def find_median_rank_cat(ranks):\n",
        "  import statistics\n",
        "  ranks1=ranks.copy()\n",
        "  ranks1.sort()\n",
        "  median=statistics.median(ranks1)\n",
        "  print(\"\\nMedian is\",median)\n",
        "  medianFound = False\n",
        "  for i in range(len(ranks)):\n",
        "    if ranks[i]==median and not medianFound:\n",
        "      print(\"First criteria with rank\",median,\":\\n\"+criteria[i])\n",
        "      medianFound = True\n",
        "\n",
        "\n",
        "\n",
        "\n",
        "print(\"Average Ranking:\",get_average_rank(ranks)) #Get average ranking\n",
        "\n",
        "highest_rank_Cat(ranks) #get higest ranking criterias\n",
        "\n",
        "lowest_rank_Cat(ranks) #get lowest ranking criterias\n",
        "\n",
        "most_common_rank_cat(ranks) #get most common ranking and criterias with that ranking\n",
        "\n",
        "find_median_rank_cat(ranks) #get median rank and the first criteria with that rank"
      ],
      "execution_count": 44,
      "outputs": [
        {
          "output_type": "stream",
          "text": [
            "Average Ranking: 9.06\n",
            "\n",
            "Following criterias have highest ranking which is 10 \n",
            "\n",
            "Use basic programming concepts and notebooks independently to produce simple coded solutions\n",
            "Use variables of a range of types within working Python code\n",
            "Use meaningful data and function names\n",
            "Select and use if statements correctly for given problems\n",
            "Demonstrate clear understanding of selection and repetition by using them appropriately in combination\n",
            "Use Google Colabs and Github together to regularly store copies of code notebooks\n",
            "Produce code that is free from obvious errors\n",
            "Write neat and readable code (blank lines for spacing, indentation, relevant function naming, relevant variable naming)\n",
            "\n",
            "Following criterias have lowest ranking which is 6 \n",
            "\n",
            "Develop Python coded solutions which process lists of data\n",
            "\n",
            "Most common range is 10 And criterias with this ranking :\n",
            "\n",
            "Use basic programming concepts and notebooks independently to produce simple coded solutions\n",
            "Use variables of a range of types within working Python code\n",
            "Use meaningful data and function names\n",
            "Select and use if statements correctly for given problems\n",
            "Demonstrate clear understanding of selection and repetition by using them appropriately in combination\n",
            "Use Google Colabs and Github together to regularly store copies of code notebooks\n",
            "Produce code that is free from obvious errors\n",
            "Write neat and readable code (blank lines for spacing, indentation, relevant function naming, relevant variable naming)\n",
            "\n",
            "Median is 9\n",
            "First criteria with rank 9 :\n",
            "Select and use appropriate loops correctly for given problems\n"
          ],
          "name": "stdout"
        }
      ]
    },
    {
      "cell_type": "markdown",
      "metadata": {
        "id": "MiLvW0EVzkN3"
      },
      "source": [
        "I found this exercise interesting. It was a good practice to write different functions. I am yet to finish data structure module. Hence was not very confident with lists yet.But feeling at ease with lists after this exercise. Had to look online to check how to use list functions like sort(),copy(),mode(),median() etc.\n"
      ]
    }
  ]
}