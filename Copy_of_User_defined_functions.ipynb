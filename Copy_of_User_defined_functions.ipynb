{
  "nbformat": 4,
  "nbformat_minor": 0,
  "metadata": {
    "colab": {
      "name": "Copy of User-defined-functions.ipynb",
      "provenance": [],
      "include_colab_link": true
    },
    "kernelspec": {
      "name": "python3",
      "display_name": "Python 3"
    },
    "language_info": {
      "name": "python"
    }
  },
  "cells": [
    {
      "cell_type": "markdown",
      "metadata": {
        "id": "view-in-github",
        "colab_type": "text"
      },
      "source": [
        "<a href=\"https://colab.research.google.com/github/Bageshri123/Data-Science---Python/blob/main/Copy_of_User_defined_functions.ipynb\" target=\"_parent\"><img src=\"https://colab.research.google.com/assets/colab-badge.svg\" alt=\"Open In Colab\"/></a>"
      ]
    },
    {
      "cell_type": "markdown",
      "metadata": {
        "id": "_mb8Es9TZFdY"
      },
      "source": [
        "# User-defined functions"
      ]
    },
    {
      "cell_type": "markdown",
      "metadata": {
        "id": "yDPndJACZJKA"
      },
      "source": [
        "---\n",
        "During this course, you have already been writing user-defined functions.  We have introduced these early so that they become second nature to use.  Python is a 'scripting' language, which means that you can just write a list of instructions and click run and it will just run them from first to last.\n",
        "\n",
        "Many other programming languages, including C, C++ and Java, have a structure where you must group instructions into a named set (like a function) before you can run them.  It will be easier to learn new languages later if you have an understanding of the organisation of code into functions.\n",
        "\n",
        "## Definition\n",
        "\n",
        "A function is a set of programming instructions, grouped together and named so that, in essence, they form a new instruction that can be use in other functions.\n",
        "\n",
        "A function should:\n",
        "*   do *one* particular thing (e.g. generate one new piece of data)\n",
        "*   have a *name* that indicates what it does, that name should contain a verb (e.g. get_username(), calculate_sum() )\n",
        "*   accept a number of data items as *parameters* in its brackets\n",
        "*   *return* the one new piece of data it produces or None if no new data is produced.\n",
        "\n",
        "---\n",
        "## Examples\n",
        "Run the code for each to see what it does.\n",
        "\n",
        "\n",
        "\n",
        "\n"
      ]
    },
    {
      "cell_type": "code",
      "metadata": {
        "id": "BRlxHaF9YtoB",
        "colab": {
          "base_uri": "https://localhost:8080/"
        },
        "outputId": "a294b4db-6f72-42d6-89ea-8c6f58908651"
      },
      "source": [
        "def get_username():\n",
        "  username = input(\"Enter your username: \")\n",
        "  return username\n",
        "\n",
        "username = get_username()\n",
        "print(username)"
      ],
      "execution_count": null,
      "outputs": [
        {
          "output_type": "stream",
          "text": [
            "Enter your username: bvk\n",
            "bvk\n"
          ],
          "name": "stdout"
        }
      ]
    },
    {
      "cell_type": "markdown",
      "metadata": {
        "id": "RsSaHvS_bx0i"
      },
      "source": [
        "---\n"
      ]
    },
    {
      "cell_type": "code",
      "metadata": {
        "id": "DraANPGIbd13",
        "colab": {
          "base_uri": "https://localhost:8080/"
        },
        "outputId": "096bc3f4-a7d0-49ce-a78a-5ff015c98adf"
      },
      "source": [
        "def calculate_sum(num1, num2):\n",
        "  sum = num1 + num2\n",
        "  return sum\n",
        "\n",
        "total = calculate_sum(4, 7)\n",
        "print(total)"
      ],
      "execution_count": null,
      "outputs": [
        {
          "output_type": "stream",
          "text": [
            "11\n"
          ],
          "name": "stdout"
        }
      ]
    },
    {
      "cell_type": "markdown",
      "metadata": {
        "id": "IaybFpHvbziA"
      },
      "source": [
        "---\n"
      ]
    },
    {
      "cell_type": "code",
      "metadata": {
        "id": "pEldozw1bw9K",
        "colab": {
          "base_uri": "https://localhost:8080/"
        },
        "outputId": "f2c3eba3-9d68-40dc-d026-7912dd43066e"
      },
      "source": [
        "def show_score(score):\n",
        "  print(\"Your current score is: \", score)\n",
        "\n",
        "show_score(50)"
      ],
      "execution_count": null,
      "outputs": [
        {
          "output_type": "stream",
          "text": [
            "Your current score is:  50\n"
          ],
          "name": "stdout"
        }
      ]
    },
    {
      "cell_type": "markdown",
      "metadata": {
        "id": "S54v0BzZfcle"
      },
      "source": [
        "---\n",
        "## Passing data to functions\n",
        "\n",
        "Data is passed to a function through its brackets.  The brackets contain the parameter list.  The list can contain zero or more parameters.\n",
        "\n",
        "When the function is called, the parameters (either real values or variables holding values) are added to the function call."
      ]
    },
    {
      "cell_type": "code",
      "metadata": {
        "id": "nPaM_x2cg2EI"
      },
      "source": [
        "def calculate_answer(num1, num2, operator):\n",
        "  if operator == \"+\":\n",
        "     return num1 + num2\n",
        "  elif operator == \"-\":\n",
        "     return num1 - num2\n",
        "  elif operator == \"*\":\n",
        "     return num1 * num2\n",
        "  elif operator == \"/\":\n",
        "     return num1 / num2\n",
        "  else:\n",
        "     return -999999\n",
        "\n",
        "answer = calculate_answer(5,7,\"+\")\n",
        "print(answer)"
      ],
      "execution_count": null,
      "outputs": []
    },
    {
      "cell_type": "markdown",
      "metadata": {
        "id": "4u3jcpUWg56N"
      },
      "source": [
        "To pass values easily to the function, just add the values in the same order that they are listed in the function definition.  Make sure that the values you pass in are of a type that the function obviously expects."
      ]
    },
    {
      "cell_type": "markdown",
      "metadata": {
        "id": "2pN0AVaTh-HP"
      },
      "source": [
        "---\n",
        "## Global and local variables\n",
        "\n",
        "Each variable in a Python program has a **scope**.  This determines which parts of the program can 'see' that variable. The advantage of variable scope is that it:\n",
        "*   can protect variables from being changed elsewhere in the program due to adding a variable with the same name\n",
        "*   reduces the number of different variable names needed.  If a total in one function is totally unconnected to a total in a different function they can have the same name and only exist while the function each is in is actually running.  This also saves on memory.\n",
        "\n"
      ]
    },
    {
      "cell_type": "code",
      "metadata": {
        "colab": {
          "base_uri": "https://localhost:8080/"
        },
        "id": "Ww0WCrVBhNLm",
        "outputId": "dd638b9a-8592-4715-b901-fe05f8da7575"
      },
      "source": [
        "def calculate_sum(num1, num2):\n",
        "  # add the parameters together and return the total\n",
        "  total = num1 + num2  # here total is a local variable\n",
        "  print(\"Inside the function, local total\", total)\n",
        "  return total\n",
        "\n",
        "total = 0  # here total is a global variable (declared outside any function)\n",
        "\n",
        "# call the calculate_sum function, storing the result in the global variable\n",
        "new_total = calculate_sum(10, 20)\n",
        "print(\"Outside the function, global total\", total)\n",
        "print(\"Outside the function, global new_total, returned from function\", new_total)"
      ],
      "execution_count": null,
      "outputs": [
        {
          "output_type": "stream",
          "text": [
            "Inside the function, local total 30\n",
            "Outside the function, global total 0\n",
            "Outside the function, global new_total, returned from function 30\n"
          ],
          "name": "stdout"
        }
      ]
    },
    {
      "cell_type": "markdown",
      "metadata": {
        "id": "VQ2bk-Qo7jC7"
      },
      "source": [
        "---\n",
        "# Have a go"
      ]
    },
    {
      "cell_type": "markdown",
      "metadata": {
        "id": "iK9GF4T274Na"
      },
      "source": [
        "---\n",
        "### Exercise 1 - get valid digit\n",
        "\n",
        "Write a function called **input_digit()** which will:\n",
        "*  ask the user for a **number** that must be between 0 and 9, if the number is not between 0 and 9 it will keep reading until it gets a valid `number`\n",
        "*  return the valid `number` to be printed by the caller \n",
        "\n",
        "Test input:  \n",
        "33  \n",
        "-1  \n",
        "8  \n",
        "\n",
        "Expected output:  \n",
        "That number is not valid, try again  \n",
        "That number is not valid, try again  \n",
        "8  "
      ]
    },
    {
      "cell_type": "code",
      "metadata": {
        "id": "lwN-VvkH8Skt",
        "colab": {
          "base_uri": "https://localhost:8080/"
        },
        "outputId": "812a7383-8a21-4ad1-dddf-571bbbcf5159"
      },
      "source": [
        "def input_digit():\n",
        "  number=10\n",
        "  while number<0 or number>9:\n",
        "    number=int(input(\"Enter a number between 0 to 9:\"))\n",
        "    if number <0 or number>9:\n",
        "      print(\"Number is not valid, try again\")\n",
        "  return number\n",
        "\n",
        "input_digit()\n"
      ],
      "execution_count": null,
      "outputs": [
        {
          "output_type": "stream",
          "text": [
            "Enter a number between 0 to 9:69\n",
            "Number is not valid, try again\n",
            "Enter a number between 0 to 9:45\n",
            "Number is not valid, try again\n",
            "Enter a number between 0 to 9:0\n"
          ],
          "name": "stdout"
        },
        {
          "output_type": "execute_result",
          "data": {
            "text/plain": [
              "0"
            ]
          },
          "metadata": {
            "tags": []
          },
          "execution_count": 6
        }
      ]
    },
    {
      "cell_type": "markdown",
      "metadata": {
        "id": "v-qE3qQ58THx"
      },
      "source": [
        "---\n",
        "### Exercise 2 - input range\n",
        "\n",
        "Write a function called **input_value(min, max)** which will:  \n",
        "*  read a **number** that must be between `min` and `max` and only return when it has a valid `number`.  The caller will print the `number`.\n",
        "\n",
        "Test input:  \n",
        "min = 3  \n",
        "max = 24  \n",
        "1  \n",
        "45  \n",
        "20  \n",
        "\n",
        "Expected output:  \n",
        "Number is out of range, try again  \n",
        "Number is out of range, try again  \n",
        "20"
      ]
    },
    {
      "cell_type": "code",
      "metadata": {
        "id": "PKAlW0sr9XR1",
        "colab": {
          "base_uri": "https://localhost:8080/"
        },
        "outputId": "a4a85f9a-cf9d-4d1e-ff08-5afbb9ee15e7"
      },
      "source": [
        "def input_value(min,max):\n",
        "  number=min-1\n",
        "  while number<min or number>max:\n",
        "    number=int(input(\"Enter a number:\"))\n",
        "    if number>=min and number<=max:\n",
        "      return number\n",
        "    else:\n",
        "      print(\"Number is out of range. Try again.\")\n",
        "\n",
        "print(input_value(3,24))\n"
      ],
      "execution_count": null,
      "outputs": [
        {
          "output_type": "stream",
          "text": [
            "Enter a number:45\n",
            "Number is out of range. Try again.\n",
            "Enter a number:-12\n",
            "Number is out of range. Try again.\n",
            "Enter a number:23\n",
            "23\n"
          ],
          "name": "stdout"
        }
      ]
    },
    {
      "cell_type": "markdown",
      "metadata": {
        "id": "MXhunQBG9XkU"
      },
      "source": [
        "---\n",
        "### Exercise 3 - re-using the function\n",
        "\n",
        "Using the same function as in Exercise 2 above, try running it with these function calls:\n",
        "\n",
        "```\n",
        "value1 = input_value(1,10)\n",
        "value2 = input_value(11,20)\n",
        "value3 = input_value(21,30)\n",
        "print(value1, value2, value3)\n",
        "```"
      ]
    },
    {
      "cell_type": "code",
      "metadata": {
        "id": "oVpQJ3ZM9xCJ",
        "colab": {
          "base_uri": "https://localhost:8080/"
        },
        "outputId": "41930b93-477a-4c89-f025-12ccb3eb36ff"
      },
      "source": [
        "value1=input_value(1,10)\n",
        "value2=input_value(11,20)\n",
        "value3 = input_value(21,30)\n",
        "print(value1, value2, value3)\n"
      ],
      "execution_count": null,
      "outputs": [
        {
          "output_type": "stream",
          "text": [
            "Enter a number:34\n",
            "Number is out of range. Try again.\n",
            "Enter a number:10\n",
            "Enter a number:-1\n",
            "Number is out of range. Try again.\n",
            "Enter a number:12\n",
            "Enter a number:29\n",
            "10 12 29\n"
          ],
          "name": "stdout"
        }
      ]
    },
    {
      "cell_type": "markdown",
      "metadata": {
        "id": "P0QwTt7O9xUz"
      },
      "source": [
        "---\n",
        "### Exercise 4 - generate random even number\n",
        "\n",
        "Write a function called **generate_even_number()** that will generate a random, even **number** and return it to the caller, which will print it.\n",
        "\n",
        "*Hint: the function will need to generate the number, check it is an even number, repeat if not and return the number once it has got an even number*."
      ]
    },
    {
      "cell_type": "code",
      "metadata": {
        "id": "1ccTQxUa-Ok7",
        "colab": {
          "base_uri": "https://localhost:8080/"
        },
        "outputId": "348be665-9ab9-4982-d4d4-965b9511bc4d"
      },
      "source": [
        "from random import randint\n",
        "def generate_even_number():\n",
        "  number=1\n",
        "  while number%2!=0:\n",
        "    number=randint(1,100)\n",
        "    \n",
        "  return number\n",
        "\n",
        "print(generate_even_number())\n",
        "  "
      ],
      "execution_count": null,
      "outputs": [
        {
          "output_type": "stream",
          "text": [
            "96\n"
          ],
          "name": "stdout"
        }
      ]
    },
    {
      "cell_type": "markdown",
      "metadata": {
        "id": "LYLGRytk-Ot6"
      },
      "source": [
        "---\n",
        "### Exercise 5 - biggest of 3 numbers\n",
        "\n",
        "Write a function called **check_largest(num1, num2, num3)** which will:  \n",
        "*  select the largest of `num1`, `num2` and `num3` and store this in a variable called **largest**\n",
        "*  return `largest` to the caller, where it will be printed. \n",
        "\n",
        "Test input:  \n",
        "check_largest(3,5,8)  \n",
        "check_largest(5,7,2)  \n",
        "check_largest(123,45,122)\n",
        "\n",
        "Expected output:  \n",
        "8  \n",
        "7  \n",
        "123  "
      ]
    },
    {
      "cell_type": "code",
      "metadata": {
        "id": "S_LeqEVd__Cc",
        "colab": {
          "base_uri": "https://localhost:8080/"
        },
        "outputId": "576dac15-3db9-4873-feb7-6f192576e8a8"
      },
      "source": [
        "#find biggest of 3 numbers\n",
        "def check_largest(num1,num2,num3):\n",
        "  largest=0\n",
        "  if num1>num2:\n",
        "    if num1>=num3:\n",
        "      largest=num1\n",
        "    elif num3>=num1:\n",
        "      largest=num3\n",
        "  elif num2>num3:\n",
        "    if num2>=num1:\n",
        "      largest=num2\n",
        "    elif num1>=num2:\n",
        "      largest=num3\n",
        "  elif num3>num1:\n",
        "    if num3>=num2:\n",
        "      largest=num3\n",
        "    elif num2>=num3:\n",
        "      largest=num2\n",
        "  elif num1==num2==num3:\n",
        "    largest=num1\n",
        "  return largest\n",
        "\n",
        "print(check_largest(4,5,6))\n",
        "\n",
        "  "
      ],
      "execution_count": null,
      "outputs": [
        {
          "output_type": "stream",
          "text": [
            "6\n"
          ],
          "name": "stdout"
        }
      ]
    },
    {
      "cell_type": "markdown",
      "metadata": {
        "id": "cbrFvknfAO05"
      },
      "source": [
        "---\n",
        "### Exercise 6 - average of 5 numbers\n",
        "\n",
        "Write a function calculate_average(num1, num2, num3, num4, num5) which will calculate the average of the 5 numbers given.  \n",
        "\n",
        "Test input:  \n",
        "calculate_average(1,2,3,4,5)  \n",
        "calculate_average(10002, 30004, 5005, 3333333, 12345)  \n",
        "\n",
        "Expected output:  \n",
        "3.0  \n",
        "678137.8"
      ]
    },
    {
      "cell_type": "code",
      "metadata": {
        "id": "BFTEfne8APF5",
        "colab": {
          "base_uri": "https://localhost:8080/"
        },
        "outputId": "e2bd7854-d943-4eee-fb28-fe179e5315a5"
      },
      "source": [
        "#calculate average of 5 given numbers\n",
        "def calculate_average(num1,num2,num3,num4,num5):\n",
        "  average=(num1+num2+num3+num4+num5)/5\n",
        "  return average\n",
        "\n",
        "\n",
        "print(calculate_average(10002,30004,5005,3333333,12345))\n"
      ],
      "execution_count": null,
      "outputs": [
        {
          "output_type": "stream",
          "text": [
            "678137.8\n"
          ],
          "name": "stdout"
        }
      ]
    },
    {
      "cell_type": "markdown",
      "metadata": {
        "id": "Z58a7qa1BQ6j"
      },
      "source": [
        "---\n",
        "### Exercise 7 - calculate price\n",
        "\n",
        "Write a function called **calculate_price(product_price, items)** which will:\n",
        "\n",
        "*  ask the user to enter any **discount** they have (this can be 10% or 25% only), if the discount value is invalid, do not apply a discount   \n",
        "*  calculate the price of the items, including the discount\n",
        "*  return the `discounted price`\n",
        "\n",
        "Test input:  \n",
        "product_price is 3.50  \n",
        "number of items is 4  \n",
        "user enters discount of 10%  \n",
        "\n",
        "Expected output:  \n",
        "Discounted price: £ 12.60\n",
        "\n",
        "Test input:  \n",
        "product_price is 8.99  \n",
        "number of items is 10  \n",
        "user enters discount of 50%   \n",
        "\n",
        "Expected output:  \n",
        "Discounted price: £ 89.90  "
      ]
    },
    {
      "cell_type": "code",
      "metadata": {
        "colab": {
          "base_uri": "https://localhost:8080/"
        },
        "id": "H97-C7cgXnRB",
        "outputId": "5e4c59c8-ca77-4299-c16b-b2b02dcb2962"
      },
      "source": [
        "#calculate discounted price\n",
        "def calculate_price(product_price,items):\n",
        "  discount=input(\"Enter the discount you have 10% or 25%:\")\n",
        "  if discount==\"10%\" or discount==\"10\":\n",
        "    discounted_price=(product_price-(product_price*0.10))*items\n",
        "  elif discount==\"25%\" or discount==\"25\":\n",
        "    discounted_price=(product_price-(product_price*0.25))*items\n",
        "  else:\n",
        "    discounted_price=product_price*items\n",
        "\n",
        "  print(\"Discounted price: \")\n",
        "  return \"{:.2f}\".format(discounted_price)\n",
        "\n",
        "\n",
        "print(\"£\"+calculate_price(8.99,10))\n",
        "\n",
        "\n",
        "\n",
        "\n"
      ],
      "execution_count": null,
      "outputs": [
        {
          "output_type": "stream",
          "text": [
            "Enter the discount you have 10% or 25%:50%\n",
            "Discounted price: \n",
            "£89.90\n"
          ],
          "name": "stdout"
        }
      ]
    },
    {
      "cell_type": "markdown",
      "metadata": {
        "id": "NG2u2VT-CwO6"
      },
      "source": [
        "---\n",
        "### Exercise 8 - reverse a string\n",
        "\n",
        " Write a function called **reverse_string(word)** which will:  \n",
        " \n",
        " *  reverse the letters in the word  \n",
        " *  return the **reversed** `word` for printing\n",
        "\n",
        "[Help if you need it](https://www.w3schools.com/python/python_howto_reverse_string.asp)  \n",
        "\n",
        " Test input:  \n",
        " tiger  \n",
        "\n",
        " Expected output:  \n",
        " regit\n",
        "\n",
        " Test input:  \n",
        " Expected\n",
        "\n",
        " Expected output:  \n",
        " detcepxE"
      ]
    },
    {
      "cell_type": "code",
      "metadata": {
        "id": "OdHYWCJMCwaI",
        "colab": {
          "base_uri": "https://localhost:8080/"
        },
        "outputId": "7c83077e-db85-45a5-86f0-86bddfa8a92b"
      },
      "source": [
        "#reverse given string\n",
        "def reverse_string(word):\n",
        "  length=len(word)-1\n",
        "  reverse_word=\"\"\n",
        "  while length>=0:\n",
        "    reverse_word=reverse_word+word[length]\n",
        "    length-=1\n",
        "  return reverse_word\n",
        "\n",
        "print(reverse_string(\"Expected\"))"
      ],
      "execution_count": 13,
      "outputs": [
        {
          "output_type": "stream",
          "text": [
            "detcepxE\n"
          ],
          "name": "stdout"
        }
      ]
    },
    {
      "cell_type": "code",
      "metadata": {
        "colab": {
          "base_uri": "https://localhost:8080/"
        },
        "id": "x9i6Fa3CUbfC",
        "outputId": "c4b781f1-b1f5-494a-bd44-007a42c0bce2"
      },
      "source": [
        "def reverse_string(word):\n",
        "  reversed = word[::-1]\n",
        "  return reversed\n",
        "\n",
        "print(reverse_string(\"expected\"), reverse_string(\"banana\"))"
      ],
      "execution_count": 29,
      "outputs": [
        {
          "output_type": "stream",
          "text": [
            "detcepxe ananab\n"
          ],
          "name": "stdout"
        }
      ]
    },
    {
      "cell_type": "markdown",
      "metadata": {
        "id": "QPHDjtXXEJ92"
      },
      "source": [
        "---\n",
        "### Exercise 9 - find factorial\n",
        "\n",
        "Write a function called **calculate_factorial(num)** which will:\n",
        "\n",
        "*  if `num` is negative set **factorial** to -1\n",
        "*  if `num` isn't negative, if it is 0 then set `factorial` to 1\n",
        "*  if `num` isn't 0 then calculate `factorial` (multiply the numbers from `num` down to 1\n",
        "*  return `factorial`.   \n",
        "\n",
        "Test inputs:  \n",
        "calculate_factorial(5)  \n",
        "calculate_factorial(-5)  \n",
        "calculate_factorial(0)    \n",
        "\n",
        "Expected outputs:  \n",
        "120  \n",
        "-1  \n",
        "1    "
      ]
    },
    {
      "cell_type": "code",
      "metadata": {
        "id": "QAln19ReEKH5",
        "colab": {
          "base_uri": "https://localhost:8080/"
        },
        "outputId": "df73e2c3-04dc-4564-949b-82b520a29993"
      },
      "source": [
        "#calculate factorial\n",
        "def calculate_factorial(num):\n",
        "  factorial=1\n",
        "  if num<0:\n",
        "    factorial=-1\n",
        "  elif num==0:\n",
        "    factorial=1\n",
        "  else:\n",
        "    while num>=1:\n",
        "      factorial*=num\n",
        "      num-=1\n",
        "  return factorial\n",
        "\n",
        "print(calculate_factorial(0))"
      ],
      "execution_count": 17,
      "outputs": [
        {
          "output_type": "stream",
          "text": [
            "1\n"
          ],
          "name": "stdout"
        }
      ]
    },
    {
      "cell_type": "markdown",
      "metadata": {
        "id": "x-JvvWUVFvY8"
      },
      "source": [
        "---\n",
        "### Exercise 10 - palindrome  \n",
        "\n",
        "Write a function called **is_palindrome(word)** which will return True if the `word` passed in is a palindrome (ie it reads the same in reverse) and False if not.\n",
        "\n",
        "*Hint:  remember that upper case and lower case letters are not seen as the same by Python, there are [case conversion](https://www.codecademy.com/learn/learn-python-3/modules/learn-python3-strings/cheatsheet) functions you can use to help with this.*\n",
        "\n",
        "Test input:  \n",
        "is_palindrome(\"racecar\")  \n",
        "is_palindrome(\"Racecar\")  \n",
        "is_palindrome(\"banana\")  \n",
        "\n",
        "Expected output:  \n",
        "True  \n",
        "True  \n",
        "False  "
      ]
    },
    {
      "cell_type": "code",
      "metadata": {
        "id": "Jx0ZSYl0FvjD",
        "colab": {
          "base_uri": "https://localhost:8080/"
        },
        "outputId": "c921e4e7-c5f1-4619-b8dc-9d1dc60aae85"
      },
      "source": [
        "#check if the given word is palindrome\n",
        "def is_palindrome(word):\n",
        "  length=len(word)-1\n",
        "  reverse_word=\"\"\n",
        "  while length>=0:\n",
        "    reverse_word=reverse_word+word[length]\n",
        "    length-=1\n",
        "\n",
        "  if reverse_word.lower() == word.lower():\n",
        "    return True\n",
        "  else:\n",
        "    return False\n",
        "\n",
        "print(is_palindrome(\"racecar\"), is_palindrome(\"Racecar\"),is_palindrome(\"banana\"))\n"
      ],
      "execution_count": 39,
      "outputs": [
        {
          "output_type": "stream",
          "text": [
            "True True False\n"
          ],
          "name": "stdout"
        }
      ]
    },
    {
      "cell_type": "code",
      "metadata": {
        "colab": {
          "base_uri": "https://localhost:8080/"
        },
        "id": "wWuU48hAU4UX",
        "outputId": "8beec0be-b360-46f6-8185-40ff4387a708"
      },
      "source": [
        "def is_palindrome(word):\n",
        "  reversed = word[::-1]\n",
        "  if reversed.lower() == word.lower():\n",
        "    return True\n",
        "  else:\n",
        "    return False\n",
        "\n",
        "print(is_palindrome(\"racecar\"), is_palindrome(\"Racecar\"))"
      ],
      "execution_count": 35,
      "outputs": [
        {
          "output_type": "stream",
          "text": [
            "True True\n"
          ],
          "name": "stdout"
        }
      ]
    }
  ]
}