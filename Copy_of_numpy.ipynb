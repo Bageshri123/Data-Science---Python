{
  "nbformat": 4,
  "nbformat_minor": 0,
  "metadata": {
    "colab": {
      "name": "Copy of numpy.ipynb",
      "provenance": [],
      "collapsed_sections": [],
      "include_colab_link": true
    },
    "kernelspec": {
      "name": "python3",
      "display_name": "Python 3"
    },
    "language_info": {
      "name": "python"
    }
  },
  "cells": [
    {
      "cell_type": "markdown",
      "metadata": {
        "id": "view-in-github",
        "colab_type": "text"
      },
      "source": [
        "<a href=\"https://colab.research.google.com/github/Bageshri123/Data-Science---Python/blob/main/Copy_of_numpy.ipynb\" target=\"_parent\"><img src=\"https://colab.research.google.com/assets/colab-badge.svg\" alt=\"Open In Colab\"/></a>"
      ]
    },
    {
      "cell_type": "code",
      "metadata": {
        "id": "HsDcB7mn4xq2"
      },
      "source": [
        ""
      ],
      "execution_count": null,
      "outputs": []
    },
    {
      "cell_type": "markdown",
      "metadata": {
        "id": "M21YTen340ZU"
      },
      "source": [
        "# Using numpy for processing arrays and matrices of number data\n",
        "\n",
        "---"
      ]
    },
    {
      "cell_type": "markdown",
      "metadata": {
        "id": "lvCryMxH47we"
      },
      "source": [
        "## numpy is a more efficient array processing library for Python\n",
        "\n",
        "Python lists can contain any type of data, including objects.  numpy arrays are specialised and can only contain numbers.\n",
        "\n",
        "You can customise the memory usage so that arrays can use less memory and items are stored contiguously.  This means that it is more efficient/faster processing large data sets.\n",
        "\n",
        "Use numpy arrays to store and manipulate large lists of numbers (for other data types use plain Python lists or a panda series)\n"
      ]
    },
    {
      "cell_type": "markdown",
      "metadata": {
        "id": "MxKEUfvp54QO"
      },
      "source": [
        "---\n",
        "### Creating a numpy array from a Python list\n",
        "\n",
        "To use numpy, you will need to import it.  The conventional way to import numpy is to import the whole library and use an *alias*\n",
        "\n",
        "`import numpy as np`\n",
        "\n",
        "Every time you want to use a function from the numpy library you use the syntax:  \n",
        "`np.function_name()`  \n",
        "\n",
        "Create a new numpy array from a Python list of numbers\n",
        "   \n",
        "`arr = np.array([1,2,3])`\n",
        "\n",
        "Or a new numpy matrix from a Python 2 dimensional list of numbers\n",
        "\n",
        "`matrix = np.array([1,2,3],[4,5,6])`"
      ]
    },
    {
      "cell_type": "markdown",
      "metadata": {
        "id": "s2HQHeHE6r4n"
      },
      "source": [
        "---\n",
        "### Exercise 1 - create a numpy array from a given list\n",
        "\n",
        "Write a function called `make_array(num_list`) which will:\n",
        "*   accept num_list as a parameter  \n",
        "*   create a new numpy array called **new_array** from `num_list`\n",
        "*   print `new_array`\n",
        "\n",
        "Test input:  \n",
        "[3,6,2,5,8,6]  \n",
        "\n",
        "Expected output:  \n",
        "[3,6,2,5,8,6]  \n",
        "\n"
      ]
    },
    {
      "cell_type": "code",
      "metadata": {
        "id": "-WWVDSRq7QDN",
        "colab": {
          "base_uri": "https://localhost:8080/"
        },
        "outputId": "8d7eb4d4-6e9c-472a-b0e2-9e4e8c31b61d"
      },
      "source": [
        "import numpy as np\n",
        "def make_array(num_list):\n",
        "  new_array=np.array(num_list)\n",
        "  print(new_array)\n",
        "\n",
        "\n",
        "\n",
        "num1=[3,6,2,5,8,6]\n",
        "make_array(num1)"
      ],
      "execution_count": null,
      "outputs": [
        {
          "output_type": "stream",
          "text": [
            "[3 6 2 5 8 6]\n"
          ],
          "name": "stdout"
        }
      ]
    },
    {
      "cell_type": "markdown",
      "metadata": {
        "id": "X2qc0-nc7qZV"
      },
      "source": [
        "## Setting the number type in memory\n",
        "\n",
        "numpy allows you to set the type of number in memory (e.g. int8, int32) when you create the array.  This allows memory allocation to be as small as possible.  \n",
        "\n",
        "`new_matrix = np.array([[1, 2, 3], [4, 5, 6]], np.int8)`    \n",
        "\n",
        "This creates a two row, three column matrix of whole numbers which are all small enough to fit in 1 byte of memory storage.\n",
        "\n",
        "---\n",
        "### Exercise 2 - create matrix of smallish numbers\n",
        "\n",
        "Write a function which will:\n",
        "*   accept a parameter **num_list** which will be a 2-dimensional list  \n",
        "*   create a new numpy array called **new_matrix** from `num_list`, with data size `int16`\n",
        "*   print `new_matrix` one list per line\n",
        "\n",
        "Test input:  \n",
        "[31112, 32321, 24567],[456,324,789]\n",
        "\n",
        "Expected output:   \n",
        "[31112, 32321, 24567]  \n",
        "[456,324,789]  \n",
        " \n"
      ]
    },
    {
      "cell_type": "code",
      "metadata": {
        "id": "XUMfMwhLACzH",
        "colab": {
          "base_uri": "https://localhost:8080/"
        },
        "outputId": "d49771be-7c23-41d2-9082-95474657a225"
      },
      "source": [
        "import numpy as np\n",
        "def make_2d_array(num_list):\n",
        "  new_matrix=np.array(num_list,np.int16)\n",
        "  print(new_matrix)\n",
        "\n",
        "\n",
        "num1=[31112,32321,24567],[456,324,789]\n",
        "make_2d_array(num1)"
      ],
      "execution_count": null,
      "outputs": [
        {
          "output_type": "stream",
          "text": [
            "[[31112 32321 24567]\n",
            " [  456   324   789]]\n"
          ],
          "name": "stdout"
        }
      ]
    },
    {
      "cell_type": "markdown",
      "metadata": {
        "id": "oC8rsm3yBLRd"
      },
      "source": [
        "---\n",
        "### Exercise 3 - make a 3 x 3 numpy array\n",
        "\n",
        "Write a function which  will create a 3 x 3 array, then print the array one row per line.\n",
        "\n",
        "Test data:  \n",
        "[[1,2,3],[4,5,6],[7,8,9]]\n",
        "\n",
        "Expected output:  \n",
        "[1 2 3]  \n",
        "[4 5 6]  \n",
        "[7 8 9]  "
      ]
    },
    {
      "cell_type": "code",
      "metadata": {
        "id": "QCs2eDFEBhr8",
        "colab": {
          "base_uri": "https://localhost:8080/"
        },
        "outputId": "628c4987-5f77-4ee0-a243-f64986de986d"
      },
      "source": [
        "import numpy as np\n",
        "def make_3d_array(num_list):\n",
        "  new_matrix=np.array(num_list,np.int8)\n",
        "  print(new_matrix)\n",
        "\n",
        "\n",
        "num1=[1,2,3],[4,5,6],[7,8,9]\n",
        "make_3d_array(num1)"
      ],
      "execution_count": null,
      "outputs": [
        {
          "output_type": "stream",
          "text": [
            "[[1 2 3]\n",
            " [4 5 6]\n",
            " [7 8 9]]\n"
          ],
          "name": "stdout"
        }
      ]
    },
    {
      "cell_type": "markdown",
      "metadata": {
        "id": "qf3xj2T9CRmT"
      },
      "source": [
        "---\n",
        "### Exercise 4 - make a 2 x 2 x 2 numpy array\n",
        "\n",
        "Write a function which will create a 2 x 2 x 2 array, then print the array one individual array per line.\n",
        "\n",
        "Test data:\n",
        "[[[1,2],[3,4]],[[5,6],[7,8]]]\n",
        "\n",
        "Expected output:  \n",
        "[1,2]  \n",
        "[3,4]  \n",
        "[5,6]  \n",
        "[7,8]     "
      ]
    },
    {
      "cell_type": "code",
      "metadata": {
        "id": "27UpVktxC_VX",
        "colab": {
          "base_uri": "https://localhost:8080/"
        },
        "outputId": "13476cde-acea-4c68-bf41-cba6984a2b5c"
      },
      "source": [
        "import numpy as np\n",
        "def make_new_array(num_list):\n",
        "  new_matrix=np.array(num_list,np.int8)\n",
        "  print(new_matrix)\n",
        "\n",
        "\n",
        "num1=[1,2],[3,4],[5,6],[7,8]\n",
        "make_new_array(num1)"
      ],
      "execution_count": null,
      "outputs": [
        {
          "output_type": "stream",
          "text": [
            "[[1 2]\n",
            " [3 4]\n",
            " [5 6]\n",
            " [7 8]]\n"
          ],
          "name": "stdout"
        }
      ]
    },
    {
      "cell_type": "markdown",
      "metadata": {
        "id": "-LciyxtyCKTG"
      },
      "source": [
        "## Inspecting the shape of the array/matrix\n",
        "\n",
        "numpy provides the `np.shape` property for reporting the shape of a numpy array.  np.shape will give the number of layers, rows, columns (and more if necessary) present in the array.  Arrays can be multi-dimensional but we will only arrays of maximum 3 dimensions to keep it simple.  \n",
        "\n",
        "Example:  \n",
        "```\n",
        "matrix = np.array([[[1,1],[2,2],[3,3]],[[4,4],[5,5],[6,6]]])\n",
        "print(matrix.shape)\n",
        "```\n",
        "\n",
        "Expected output:  \n",
        "(2, 3, 2)\n",
        "\n",
        "This matrix has 2 layers of 3 rows of 2 columns"
      ]
    },
    {
      "cell_type": "markdown",
      "metadata": {
        "id": "dgMSHeN8Ey0Q"
      },
      "source": [
        "---\n",
        "### Exercise 5 - print the shape\n",
        "\n",
        "Write a function which will:  \n",
        "*  create a numpy array using the test data below\n",
        "*  print the shape of the array\n",
        "\n",
        "Test 1 data:  \n",
        "[3,7,56]\n",
        "\n",
        "Expected output:\n",
        "(3,)\n",
        "\n",
        "Test 2 data:  \n",
        "[[7,6,5,8,4,9],[3,7,5,8,6,9]]\n",
        "\n",
        "Expected output:  \n",
        "(2,6)"
      ]
    },
    {
      "cell_type": "code",
      "metadata": {
        "id": "uFARauf3FiMf",
        "colab": {
          "base_uri": "https://localhost:8080/"
        },
        "outputId": "95230a90-2e9e-4646-dd91-f367a723ae03"
      },
      "source": [
        "import numpy as np\n",
        "def print_array_shape(num_list):\n",
        "  new_matrix=np.array(num_list)\n",
        "  print(new_matrix.shape)\n",
        "\n",
        "\n",
        "\n",
        "\n",
        "num1=[3,7,56]\n",
        "num2=[[7,6,5,8,4,9],[3,7,5,8,6,9]]\n",
        "print_array_shape(num1)\n",
        "print_array_shape(num2)"
      ],
      "execution_count": 9,
      "outputs": [
        {
          "output_type": "stream",
          "text": [
            "(3,)\n",
            "(2, 6)\n"
          ],
          "name": "stdout"
        }
      ]
    },
    {
      "cell_type": "markdown",
      "metadata": {
        "id": "DDVIHbrnFjwz"
      },
      "source": [
        "---\n",
        "### Exercise 6 - using slicing to print parts of arrays\n",
        "\n",
        "Write a function which will:  \n",
        "*  create an array from the Python list [1,2,3,4,5]\n",
        "*  print the first 3 items in the array\n",
        "*  print the last item in the array"
      ]
    },
    {
      "cell_type": "code",
      "metadata": {
        "id": "YB72q998EWkF",
        "colab": {
          "base_uri": "https://localhost:8080/"
        },
        "outputId": "badf156b-2625-492b-f661-6506ab9f5adb"
      },
      "source": [
        "import numpy as np\n",
        "def slice_array(num_list):\n",
        "  new_array=np.array(num_list)\n",
        "  print(\"First 3 items of array:\",new_array[:3])\n",
        "  print(\"Last item of array:\",new_array[-1])\n",
        "\n",
        "\n",
        "slice_array([1,2,3,4,5])\n"
      ],
      "execution_count": null,
      "outputs": [
        {
          "output_type": "stream",
          "text": [
            "First 3 items of array: [1 2 3]\n",
            "Last item of array: 5\n"
          ],
          "name": "stdout"
        }
      ]
    },
    {
      "cell_type": "markdown",
      "metadata": {
        "id": "QnOKzp1cHAvH"
      },
      "source": [
        "---\n",
        "### Exercise 7 - using slicing to print parts of array rows and columns\n",
        "\n",
        "Write a function which will:  \n",
        "*  create an array from the Python 2 dimsensional list [[1,2,3,4],[5,6,7,8],[9,1,2,3]]\n",
        "*  print the first item in the second row   \n",
        "*  print the first 2 rows only\n",
        "*  print the last 2 items in the last 2 rows\n",
        "\n",
        "Expected output:  \n",
        "5  \n",
        "[[1,2,3,4],[5,6,7,8]]  \n",
        "[[7,8],[2,3]]"
      ]
    },
    {
      "cell_type": "code",
      "metadata": {
        "id": "xXsISkA4HibO",
        "colab": {
          "base_uri": "https://localhost:8080/"
        },
        "outputId": "b298a353-5ba0-42ac-b05b-72ccec680387"
      },
      "source": [
        "import numpy as np\n",
        "def slice_array():\n",
        "  num_array = np.array([[1,2,3,4],[5,6,7,8],[9,1,2,3]])\n",
        "  print(num_array)\n",
        "  print(\"\\nFirst item in the second row:\",num_array[1,:1])\n",
        "  print(\"\\nFirst two rows:\\n\",num_array[0:2,0:])\n",
        "  print(\"\\nnLast two items in the last two rows:\\n\",num_array[-2:,-2:])\n",
        "\n",
        "\n",
        "slice_array()\n"
      ],
      "execution_count": 11,
      "outputs": [
        {
          "output_type": "stream",
          "text": [
            "[[1 2 3 4]\n",
            " [5 6 7 8]\n",
            " [9 1 2 3]]\n",
            "\n",
            "First item in the second row: [5]\n",
            "\n",
            "First two rows:\n",
            " [[1 2 3 4]\n",
            " [5 6 7 8]]\n",
            "\n",
            "nLast two items in the last two rows:\n",
            " [[7 8]\n",
            " [2 3]]\n"
          ],
          "name": "stdout"
        }
      ]
    },
    {
      "cell_type": "markdown",
      "metadata": {
        "id": "OxR5qwoxIhMY"
      },
      "source": [
        "---\n",
        "## Broadcasting an operation across an array\n",
        "\n",
        "Because a numpy array is created from a related set of data, it is useful to be able to operate on every item in the array in the same way.  For instance, the array might hold a set of scores out of 30 and you might want to convert all scores into percentages.\n",
        "\n",
        "We can do this in a number of ways:  \n",
        "1.  Create a new array to store the result after the operation in the new array\n",
        "```\n",
        "scores = np.array([29,25,15,22,30])\n",
        "percentages = scores / 30 * 100\n",
        "print(percentages)\n",
        "```\n",
        "Expected output:  [ 96.66666667  83.33333333  50.  73.33333333 100. ]  \n",
        "\n",
        "2.  Store the result in the original array\n",
        "```\n",
        "scores = np.array([29,25,15,22,30])\n",
        "scores = scores / 30 * 100\n",
        "print(scores)\n",
        "```\n",
        "Expected output:  [ 96.66666667  83.33333333  50.  73.33333333 100. ]\n",
        "\n",
        "Give it a try:\n",
        "\n",
        "\n",
        "\n"
      ]
    },
    {
      "cell_type": "code",
      "metadata": {
        "id": "ozhaq9-tJhRy",
        "colab": {
          "base_uri": "https://localhost:8080/"
        },
        "outputId": "db8db844-9625-42a2-ae22-191da1e6466b"
      },
      "source": [
        "scores=np.array([29,25,15,22,30])\n",
        "percentage=scores/30*100\n",
        "print(percentage)"
      ],
      "execution_count": 12,
      "outputs": [
        {
          "output_type": "stream",
          "text": [
            "[ 96.66666667  83.33333333  50.          73.33333333 100.        ]\n"
          ],
          "name": "stdout"
        }
      ]
    },
    {
      "cell_type": "code",
      "metadata": {
        "colab": {
          "base_uri": "https://localhost:8080/"
        },
        "id": "q8qjzlgZ7-Eg",
        "outputId": "6aa392b3-86ad-40e5-9c74-b60c7629cf2e"
      },
      "source": [
        "scores=np.array([29,25,15,22,30])\n",
        "scores=scores/30*100\n",
        "print(scores)"
      ],
      "execution_count": 13,
      "outputs": [
        {
          "output_type": "stream",
          "text": [
            "[ 96.66666667  83.33333333  50.          73.33333333 100.        ]\n"
          ],
          "name": "stdout"
        }
      ]
    },
    {
      "cell_type": "markdown",
      "metadata": {
        "id": "Lg62ACAlLzT8"
      },
      "source": [
        "---\n",
        "### Exercise 8 - increase whole array by 20\n",
        "\n",
        "Write a function which will:\n",
        "*  create a numpy array of 12 numbers\n",
        "*  create a new array adding 20 to each of the items in the first array  \n",
        "*  print the new array\n",
        "\n",
        "Test input:  \n",
        "[1,2,3,4,5,6,7,8,1,2,3,4]  \n",
        "\n",
        "Expected output:  \n",
        "[21,22,23,24,25,26,27,28,21,22,23,24]"
      ]
    },
    {
      "cell_type": "code",
      "metadata": {
        "id": "HloCtcOYMD3W",
        "colab": {
          "base_uri": "https://localhost:8080/"
        },
        "outputId": "a3f43c90-68ee-4cc5-b5e6-21fab003977f"
      },
      "source": [
        "#incerase all numbers in a array by 20\n",
        "def increase_array_numbers(num1):\n",
        "  num1=np.array(num1)\n",
        "  new_array=num1+20\n",
        "  print(\"Original array:\\n\",num1)\n",
        "  print(\"\\nArray after increasing by 20:\\n\",new_array)\n",
        "\n",
        "\n",
        "num_array=[1,2,3,4,5,6,7,8,1,2,3,4]\n",
        "increase_array_numbers(num_array)"
      ],
      "execution_count": 19,
      "outputs": [
        {
          "output_type": "stream",
          "text": [
            "Original array:\n",
            " [1 2 3 4 5 6 7 8 1 2 3 4]\n",
            "\n",
            "Array after increasing by 20:\n",
            " [21 22 23 24 25 26 27 28 21 22 23 24]\n"
          ],
          "name": "stdout"
        }
      ]
    },
    {
      "cell_type": "markdown",
      "metadata": {
        "id": "B-p-PF99MECD"
      },
      "source": [
        "---\n",
        "## Using functions to create arrays of 1s, 0s or a range of numbers\n",
        "\n",
        "You can use np.arange(range) to create an array with a range of numbers.  Like range in Python, either give 1 number to get all numbers from 0 to the number before it, or give 2 numbers to get the numbers from the first to one before the last.  You can specify the start number, the stop number and a step size (e.g. (1,9,2) will generate [1 3 5 7]:\n",
        "```\n",
        "array1 = np.arange(10)\n",
        "```\n",
        "will give array1 = [0,1,2,3,4,5,6,7,8,9]\n",
        "\n",
        "```\n",
        "array2 = np.arange(2,9)\n",
        "```\n",
        "will give array2 = [2,3,4,5,6,7,8]\n",
        "\n",
        "```\n",
        "array3 = np.arange(2,9,3)\n",
        "```\n",
        "will give array3 = [2,5,8]  \n",
        "\n",
        "---\n",
        "\n",
        "To create a new array of 10 zeros:\n",
        "```\n",
        "array4 = np.zeros(10)\n",
        "```\n",
        "will give array4 = [0. 0. 0. 0. 0. 0. 0. 0. 0. 0.]\n",
        "\n",
        "To create a new array of 10 zeros as integers:\n",
        "```\n",
        "array5 = np.zeros(10, dtype='int32')\n",
        "```\n",
        "will give array5 = [0 0 0 0 0 0 0 0 0 0]\n",
        "\n",
        "To create a new array of 8 ones:  \n",
        "```\n",
        "array6 = np.ones(8, dtype='int16')\n",
        "```\n",
        "will give array6 = [1 1 1 1 1 1 1 1]\n",
        "\n",
        "---\n",
        "### Exercise 9 - create a numpy array of the numbers 1 to 8  \n",
        "\n",
        "Write a function which will:  \n",
        "*  create a numpy array with the numbers 1 to 8 using np.arange()  \n",
        "*  create a second numpy array with 12 zeros\n",
        "*  create a third numpy array with 4 ones\n",
        "*  create a fourth numpy array with the the multiples of 10 from 10 to 100 (use arange with start, stop and step)\n",
        "\n",
        "Expected output:  \n",
        "[1 2 3 4 5 6 7 8]  \n",
        "[0 0 0 0 0 0 0 0 0 0 0 0]  \n",
        "[1 1 1 1]  \n",
        "[ 10  20  30  40  50  60  70  80  90 100]\n",
        "\n",
        "\n",
        " "
      ]
    },
    {
      "cell_type": "code",
      "metadata": {
        "id": "ahgPUqTjM9it",
        "colab": {
          "base_uri": "https://localhost:8080/"
        },
        "outputId": "13c1f8a6-1e61-4890-d019-4eb4980c87c5"
      },
      "source": [
        "array1=np.arange(1,9)\n",
        "print(\"Array with nos 1 to 8:\\n\",array1)\n",
        "\n",
        "array2=np.zeros(12,dtype='int16')\n",
        "print(\"\\nArray with 12 zeros:\\n\",array2)\n",
        "\n",
        "array3=np.ones(4,dtype='int16')\n",
        "print(\"\\nArray with four ones:\\n\",array3)\n",
        "\n",
        "array4=np.arange(10,101,10)\n",
        "print(\"\\nArray of multiples of 10:\\n\",array4)"
      ],
      "execution_count": 22,
      "outputs": [
        {
          "output_type": "stream",
          "text": [
            "Array with nos 1 to 8:\n",
            " [1 2 3 4 5 6 7 8]\n",
            "\n",
            "Array with 12 zeros:\n",
            " [0 0 0 0 0 0 0 0 0 0 0 0]\n",
            "\n",
            "Array with four ones:\n",
            " [1 1 1 1]\n",
            "\n",
            "Array of multiples of 10:\n",
            " [ 10  20  30  40  50  60  70  80  90 100]\n"
          ],
          "name": "stdout"
        }
      ]
    },
    {
      "cell_type": "markdown",
      "metadata": {
        "id": "Bv1G1MJpT1U9"
      },
      "source": [
        "---\n",
        "### Exercise 10 - create a numpy mask matrix\n",
        "\n",
        "**Challenging**\n",
        "\n",
        "Write a function which will create and print a numpy array as follows:\n",
        "\n",
        "*  create **array1** with shape=(8,8) containing all zeros of dtype int16\n",
        "*  change the value of the middle two items of the middle two rows of `array1`, each to 1 (use list indexing for this)\n",
        "*  print `array1`\n",
        "*  change the value of the corner items to 1\n",
        "*  print `array1`\n",
        "\n",
        "Expected output:  \n",
        "[[0 0 0 0 0 0 0 0]  \n",
        " [0 0 0 0 0 0 0 0]  \n",
        " [0 0 0 0 0 0 0 0]  \n",
        " [0 0 0 1 1 0 0 0]  \n",
        " [0 0 0 1 1 0 0 0]  \n",
        " [0 0 0 0 0 0 0 0]  \n",
        " [0 0 0 0 0 0 0 0]  \n",
        " [0 0 0 0 0 0 0 0]]    \n",
        "\n",
        " [[1 0 0 0 0 0 0 1]  \n",
        " [0 0 0 0 0 0 0 0]  \n",
        " [0 0 0 0 0 0 0 0]  \n",
        " [0 0 0 1 1 0 0 0]  \n",
        " [0 0 0 1 1 0 0 0]  \n",
        " [0 0 0 0 0 0 0 0]  \n",
        " [0 0 0 0 0 0 0 0]  \n",
        " [1 0 0 0 0 0 0 1]]  \n",
        "\n"
      ]
    },
    {
      "cell_type": "code",
      "metadata": {
        "id": "x90cXT8NWD40",
        "colab": {
          "base_uri": "https://localhost:8080/"
        },
        "outputId": "97a84da5-f64b-4e4a-a139-ae488fc512ca"
      },
      "source": [
        "array1=np.zeros(64,dtype='int16').reshape(8,8)\n",
        "print(\"Original array:\\n\",array1)\n",
        "\n",
        "\n",
        "array1[3,3]=1\n",
        "array1[3,4]=1\n",
        "array1[4,3]=1\n",
        "array1[4,4]=1\n",
        "print(\"\\nArray with changed middle 2 rows and columns:\\n\",array1)\n",
        "\n",
        "array1[0,0]=1\n",
        "array1[0,-1]=1\n",
        "array1[-1,0]=1\n",
        "array1[-1,-1]=1\n",
        "print(\"\\nArray with changed corner values:\\n\",array1)\n",
        "\n",
        "\n"
      ],
      "execution_count": 32,
      "outputs": [
        {
          "output_type": "stream",
          "text": [
            "Original array:\n",
            " [[0 0 0 0 0 0 0 0]\n",
            " [0 0 0 0 0 0 0 0]\n",
            " [0 0 0 0 0 0 0 0]\n",
            " [0 0 0 0 0 0 0 0]\n",
            " [0 0 0 0 0 0 0 0]\n",
            " [0 0 0 0 0 0 0 0]\n",
            " [0 0 0 0 0 0 0 0]\n",
            " [0 0 0 0 0 0 0 0]]\n",
            "\n",
            "Array with changed middle 2 rows and columns:\n",
            " [[0 0 0 0 0 0 0 0]\n",
            " [0 0 0 0 0 0 0 0]\n",
            " [0 0 0 0 0 0 0 0]\n",
            " [0 0 0 1 1 0 0 0]\n",
            " [0 0 0 1 1 0 0 0]\n",
            " [0 0 0 0 0 0 0 0]\n",
            " [0 0 0 0 0 0 0 0]\n",
            " [0 0 0 0 0 0 0 0]]\n",
            "\n",
            "Array with changed corner values:\n",
            " [[1 0 0 0 0 0 0 1]\n",
            " [0 0 0 0 0 0 0 0]\n",
            " [0 0 0 0 0 0 0 0]\n",
            " [0 0 0 1 1 0 0 0]\n",
            " [0 0 0 1 1 0 0 0]\n",
            " [0 0 0 0 0 0 0 0]\n",
            " [0 0 0 0 0 0 0 0]\n",
            " [1 0 0 0 0 0 0 1]]\n"
          ],
          "name": "stdout"
        }
      ]
    }
  ]
}