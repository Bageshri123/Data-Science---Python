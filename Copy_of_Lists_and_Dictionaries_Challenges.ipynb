{
  "nbformat": 4,
  "nbformat_minor": 0,
  "metadata": {
    "colab": {
      "name": "Copy of Lists and Dictionaries Challenges.ipynb",
      "provenance": [],
      "collapsed_sections": [],
      "include_colab_link": true
    },
    "kernelspec": {
      "name": "python3",
      "display_name": "Python 3"
    },
    "language_info": {
      "name": "python"
    }
  },
  "cells": [
    {
      "cell_type": "markdown",
      "metadata": {
        "id": "view-in-github",
        "colab_type": "text"
      },
      "source": [
        "<a href=\"https://colab.research.google.com/github/Bageshri123/Data-Science---Python/blob/main/Copy_of_Lists_and_Dictionaries_Challenges.ipynb\" target=\"_parent\"><img src=\"https://colab.research.google.com/assets/colab-badge.svg\" alt=\"Open In Colab\"/></a>"
      ]
    },
    {
      "cell_type": "markdown",
      "metadata": {
        "id": "nEJLJX3J9B2k"
      },
      "source": [
        "# Some challenges to help you become more confident with using Lists, Tuples and Dictionaries\n",
        "\n",
        "---\n",
        "\n"
      ]
    },
    {
      "cell_type": "markdown",
      "metadata": {
        "id": "JvV6htgh9Nc1"
      },
      "source": [
        "### Exercise 1 - extending a list\n",
        "\n",
        "There are three ways to extend a list in Python:  \n",
        "*  use `list_name.append(item)`, `list_name.insert(item)`\n",
        "*  concatenate two lists using the + operator (e.g. new_list = list1 + list2)\n",
        "*  use `list1_name.extend(list2_name)`\n",
        "\n",
        "The last method allows us to add all the `list2` items onto `list1` and for the new, extended list to now be `list1`.  `list2` will always be added to the end of `list1`.  \n",
        "\n",
        "If the objective is to add list2 before list1 then use `list2.extend(list1)`\n",
        "\n",
        "Write a function which will:  \n",
        "*  create a list of **years** containing the years 1960, 1970, 1980, 1990, 2000  \n",
        "*  print the list of years  \n",
        "*  calculate how long ago each year was and print the year and how long ago it was (e.g. 1990 was 30 years ago)  *(Hint:  use the datetime library to get the current year)*   \n",
        "*  create a second list, **years2** containing the years 2010 and 2020, extend `years` to include these later years\n",
        "*  create a third list, **years3** containing the years 1930, 1940 and 1950 and extend the list to include all the years between 1930 and 2020\n",
        "*  print the final list\n",
        "\n",
        "Expected output:  \n",
        "[1960, 1970, 1980, 1990]  \n",
        "1960 was 61 years ago  \n",
        "1970 was 51 years ago  \n",
        "1980 was 41 years ago  \n",
        "1990 was 31 years ago  \n",
        "2000 was 21 years ago  \n",
        "[1930, 1940, 1950, 1960, 1970, 1980, 1990, 2000, 2010, 2020] "
      ]
    },
    {
      "cell_type": "code",
      "metadata": {
        "id": "QAyTVqoO8-08",
        "colab": {
          "base_uri": "https://localhost:8080/"
        },
        "outputId": "29797739-eadc-41bc-ca65-06edce9bdd70"
      },
      "source": [
        "from datetime import datetime\n",
        "def extend_year_list():\n",
        "  years1=[1960,1970,1980,1990,2000]\n",
        "  print(years1,\"\\n\")\n",
        "  \n",
        "  for i in years1:\n",
        "    print(i,\"was\",datetime.today().year-i,\"years ago\") #to calculate differance between current year and every year in the list years1\n",
        "\n",
        "  years2=[2010,2020]\n",
        "  years1.extend(years2) #to extend years1 list with 2 more items in years2 list\n",
        "\n",
        "  years3=[1930,1940,1950]\n",
        "  years3.extend(years1) # to exten years3 list with all items in years1(including newly added items from years2 list)\n",
        "\n",
        "  print(\"\\n\",years3)\n",
        "\n",
        "\n",
        "extend_year_list()\n",
        "\n"
      ],
      "execution_count": null,
      "outputs": [
        {
          "output_type": "stream",
          "text": [
            "[1960, 1970, 1980, 1990, 2000] \n",
            "\n",
            "1960 was 61 years ago\n",
            "1970 was 51 years ago\n",
            "1980 was 41 years ago\n",
            "1990 was 31 years ago\n",
            "2000 was 21 years ago\n",
            "\n",
            " [1930, 1940, 1950, 1960, 1970, 1980, 1990, 2000, 2010, 2020]\n"
          ],
          "name": "stdout"
        }
      ]
    },
    {
      "cell_type": "markdown",
      "metadata": {
        "id": "S5iPicFzBzOW"
      },
      "source": [
        "---\n",
        "### Exercise 2 - creating a dictionary from a tuple and three lists\n",
        "\n",
        "Write a function which will create a list of dictionary items using the values in a tuple as the dictionary keys and the values in three corresponding lists as the dictionary values.\n",
        "\n",
        "*  loop through the status items in the tuple called task_status\n",
        "*  for each status, loop through the list with the same name (*Hint:  you can use eval(status) to access the list with the matching name  e.g. for task in eval(status)* )\n",
        "*  each time round this second loop, create a dictionary object with the  key:value pair {status : task}\n",
        "*  add each new dictionary to a list called **project_board** that was created as an empty list before the loops  \n",
        "*  print the project_board list\n",
        "\n",
        "Expected output:  \n",
        "\n",
        "[{'assigned': 'task1'}, {'assigned': 'task2'}, {'assigned': 'task3'}, {'inprogress': 'task4'}, {'inprogress': 'task5'}, {'inprogress': 'task6'}, {'completed': 'task7'}, {'completed': 'task8'}, {'completed': 'task9'}] \n",
        "\n"
      ]
    },
    {
      "cell_type": "code",
      "metadata": {
        "id": "KXYOSHY-C7m4",
        "colab": {
          "base_uri": "https://localhost:8080/"
        },
        "outputId": "7ddeb7f5-2009-400a-93cd-587f69a38c2b"
      },
      "source": [
        "def create_project_board():\n",
        "  task_status = (\"assigned\", \"inprogress\", \"completed\")\n",
        "  assigned = ['task1','task2','task3']\n",
        "  inprogress = ['task4','task5','task6']\n",
        "  completed = ['task7','task8','task9']\n",
        "  #  add your code below here\n",
        "  project_board=[]\n",
        "  \n",
        "  #iterate for each status in task_status tuple \n",
        "  #then, depending on status iterates again in appropriate list\n",
        "  for task in task_status: \n",
        "    if task==\"assigned\":\n",
        "      for item in assigned:\n",
        "        project_board.append({task:item})\n",
        "    elif task==\"inprogress\":\n",
        "      for item in inprogress:\n",
        "        project_board.append({task:item})\n",
        "    else:\n",
        "      for item in completed:\n",
        "        project_board.append({task:item})\n",
        "  \n",
        "  print(project_board)\n",
        "\n",
        "\n",
        "\n",
        "\n",
        "\n",
        "\n",
        "create_project_board()\n"
      ],
      "execution_count": null,
      "outputs": [
        {
          "output_type": "stream",
          "text": [
            "[{'assigned': 'task1'}, {'assigned': 'task2'}, {'assigned': 'task3'}, {'inprogress': 'task4'}, {'inprogress': 'task5'}, {'inprogress': 'task6'}, {'completed': 'task7'}, {'completed': 'task8'}, {'completed': 'task9'}]\n"
          ],
          "name": "stdout"
        }
      ]
    },
    {
      "cell_type": "markdown",
      "metadata": {
        "id": "M1BuTu9p19Ma"
      },
      "source": [
        "---\n",
        "### Exercise 3 - names and heights\n",
        "\n",
        "Write a function which will allow a user to enter the names and heights of a set of people and add each set of information as a record (dictionary) to a list. The function will stop collecting names and heights when the user enters \"STOP\" as the name.\n",
        "\n",
        "Then, the function will:  \n",
        "\n",
        "*   produce a list of names in order of the shortest person to the tallest\n",
        "*   calculate the name of the tallest person\n",
        "*   calculate the name of the shortest person\n",
        "*   calculate the average height\n",
        "*   calculate the name of the person who is closest to the average height\n",
        "\n",
        "\n",
        "\n",
        "\n"
      ]
    },
    {
      "cell_type": "code",
      "metadata": {
        "id": "reuyww3e18uv",
        "colab": {
          "base_uri": "https://localhost:8080/"
        },
        "outputId": "74e701b0-efb0-4ddb-b059-749606b6d400"
      },
      "source": [
        "import operator\n",
        "\n",
        "def create_name_height_list():\n",
        "  name=\"\"\n",
        "  name_height=[]\n",
        "\n",
        "#to get name and height as inputs from user till user enters \"stop\"\n",
        "#and add each input as a dictionary in the list\n",
        "  while name.upper()!=\"STOP\": \n",
        "    name=input(\"Enter name:\")\n",
        "    if name.upper()==\"STOP\":\n",
        "      break\n",
        "    height=int(input(\"Enter height in cm:\"))\n",
        "    name_height.append({'name':name,'height in cm':height})\n",
        "\n",
        "  print(\"\\n\",name_height)\n",
        "\n",
        "  name_height.sort(key=operator.itemgetter(\"height in cm\")) #to sort list by height\n",
        "  print(\"\\nList sorted by height:\",name_height)\n",
        "\n",
        "  print(\"\\nTallest person is:\",name_height[-1][\"name\"]) \n",
        "  print(\"\\nShortest person is:\",name_height[0][\"name\"]) \n",
        "\n",
        " #to calculate avearage height\n",
        "  sum=0\n",
        "  for i in name_height:\n",
        "    sum+=i[\"height in cm\"]\n",
        "\n",
        "  avg = sum/(len(name_height))\n",
        "  print(\"\\nAverage height is: \", avg)\n",
        "\n",
        "  #iterates through the list and checks differance between each height and avarage height\n",
        "  diff=99991\n",
        "  for i in range(len(name_height)):\n",
        "    if abs(name_height[i][\"height in cm\"]-avg)<diff:\n",
        "      diff = abs(name_height[i][\"height in cm\"]-avg)\n",
        "      index = i\n",
        "\n",
        "  print(\"\\nThe closest height to average is: \", name_height[index])\n",
        "\n",
        "  \n",
        "\n",
        "create_name_height_list()"
      ],
      "execution_count": 39,
      "outputs": [
        {
          "output_type": "stream",
          "text": [
            "Enter name:jack \n",
            "Enter height in cm:156\n",
            "Enter name:john\n",
            "Enter height in cm:68\n",
            "Enter name:max\n",
            "Enter height in cm:180\n",
            "Enter name:sam\n",
            "Enter height in cm:145\n",
            "Enter name:stop\n",
            "\n",
            " [{'name': 'jack ', 'height in cm': 156}, {'name': 'john', 'height in cm': 68}, {'name': 'max', 'height in cm': 180}, {'name': 'sam', 'height in cm': 145}]\n",
            "\n",
            "List sorted by height: [{'name': 'john', 'height in cm': 68}, {'name': 'sam', 'height in cm': 145}, {'name': 'jack ', 'height in cm': 156}, {'name': 'max', 'height in cm': 180}]\n",
            "\n",
            "Tallest person is: max\n",
            "\n",
            "Shortest person is: john\n",
            "\n",
            "Average height is:  137.25\n",
            "\n",
            "The closest height to average is:  {'name': 'sam', 'height in cm': 145}\n"
          ],
          "name": "stdout"
        }
      ]
    },
    {
      "cell_type": "code",
      "metadata": {
        "id": "_KNyIaITjr9Z"
      },
      "source": [
        ""
      ],
      "execution_count": null,
      "outputs": []
    }
  ]
}