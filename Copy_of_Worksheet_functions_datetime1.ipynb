{
  "nbformat": 4,
  "nbformat_minor": 0,
  "metadata": {
    "colab": {
      "name": "Copy of Worksheet-functions-datetime.ipynb",
      "provenance": [],
      "include_colab_link": true
    },
    "kernelspec": {
      "name": "python3",
      "display_name": "Python 3"
    },
    "language_info": {
      "name": "python"
    }
  },
  "cells": [
    {
      "cell_type": "markdown",
      "metadata": {
        "id": "view-in-github",
        "colab_type": "text"
      },
      "source": [
        "<a href=\"https://colab.research.google.com/github/Bageshri123/Data-Science---Python/blob/main/Copy_of_Worksheet_functions_datetime1.ipynb\" target=\"_parent\"><img src=\"https://colab.research.google.com/assets/colab-badge.svg\" alt=\"Open In Colab\"/></a>"
      ]
    },
    {
      "cell_type": "markdown",
      "metadata": {
        "id": "7iQyKP-SQiw1"
      },
      "source": [
        "# User-defined functions using datetime library\n",
        "\n",
        "---\n"
      ]
    },
    {
      "cell_type": "markdown",
      "metadata": {
        "id": "Vi93h5I4QnKs"
      },
      "source": [
        "When working with dates and times, fairly common in data sets, we need to be able to extract certain bits of information.  \n",
        "\n",
        "In Python, as with other languages, dates and times are stored in a data structure that combines the two together and stores the information as a number of seconds since a start point (often 1st January 1900).  This is obviously a large number but every bit of information about a date can be extracted from it and used to give a wide range of information.  \n",
        "\n",
        "Have a go at the exercises below to use a selection of datetime functions and return a new bit of data from each, to be printed by the caller.\n",
        "\n",
        "Before you can use datetime functions you will need to import them. Import the datetime functions like this:\n",
        "\n",
        "`from datetime import datetime`  \n",
        "\n",
        "\n",
        "For more information about datetime functions visit [w3Schools-Python datetime](https://www.w3schools.com/python/python_datetime.asp) and [Python docs](https://docs.python.org/3/library/datetime.html)"
      ]
    },
    {
      "cell_type": "markdown",
      "metadata": {
        "id": "MIDLi7CNR034"
      },
      "source": [
        "---\n",
        "### Exercise 1 - print current date and time\n",
        "\n",
        "Write a function that will return the date and time now.  The caller will print it.  \n",
        "\n",
        "*Hint:  the format has been added for you, the other exercises will follow a similar format.   Always remember to import datetime from datetime as shown below*"
      ]
    },
    {
      "cell_type": "code",
      "metadata": {
        "id": "gS6GJdXbQfHp",
        "colab": {
          "base_uri": "https://localhost:8080/"
        },
        "outputId": "0a901026-0e6c-4cae-9b64-49aa6bf97573"
      },
      "source": [
        "from datetime import datetime\n",
        "# add your function, called get_datetime_now() below here\n",
        "def get_datetime_now():\n",
        "  today=datetime.today()\n",
        "  return today\n",
        "\n",
        "now_date_time = get_datetime_now()\n",
        "print(now_date_time) # It is returning GMT and not UK summer time!"
      ],
      "execution_count": 1,
      "outputs": [
        {
          "output_type": "stream",
          "text": [
            "2021-04-15 09:55:50.746311\n"
          ],
          "name": "stdout"
        }
      ]
    },
    {
      "cell_type": "markdown",
      "metadata": {
        "id": "Yy24sL0bUtpF"
      },
      "source": [
        "---\n",
        "Exercise 2 - print the current year\n",
        "\n",
        "Write a function that will return the current year.  The caller will print the year."
      ]
    },
    {
      "cell_type": "code",
      "metadata": {
        "id": "YqlQqPIqUtyr",
        "colab": {
          "base_uri": "https://localhost:8080/"
        },
        "outputId": "cdfddd6f-9039-49b3-8e0c-f88ee82b6554"
      },
      "source": [
        "#print current year\n",
        "from datetime import datetime\n",
        "def get_current_year():\n",
        "  year=datetime.today().year\n",
        "  return year\n",
        "\n",
        "current_year = get_current_year()\n",
        "print(current_year)"
      ],
      "execution_count": null,
      "outputs": [
        {
          "output_type": "stream",
          "text": [
            "2021\n"
          ],
          "name": "stdout"
        }
      ]
    },
    {
      "cell_type": "markdown",
      "metadata": {
        "id": "FzSVCaJKV1O1"
      },
      "source": [
        "---\n",
        "### Exercise 3 - print the current day of the week\n",
        "\n",
        "Write a function that will return the current day of the week.  The caller will print it."
      ]
    },
    {
      "cell_type": "code",
      "metadata": {
        "id": "OP4ZIXBWV1Yj",
        "colab": {
          "base_uri": "https://localhost:8080/"
        },
        "outputId": "e5d6a0e2-73bb-4f01-b165-555a3cdf7696"
      },
      "source": [
        "#print current weekday\n",
        "from datetime import datetime\n",
        "def get_current_weekday():\n",
        "  weekday=datetime.today().strftime('%A')\n",
        "  return weekday\n",
        "\n",
        "current_weekday = get_current_weekday()\n",
        "print(current_weekday)"
      ],
      "execution_count": null,
      "outputs": [
        {
          "output_type": "stream",
          "text": [
            "Wednesday\n"
          ],
          "name": "stdout"
        }
      ]
    },
    {
      "cell_type": "markdown",
      "metadata": {
        "id": "a8euCtdmWIDE"
      },
      "source": [
        "---\n",
        "### Exercise 4 - create a new date\n",
        "\n",
        "Write a function that will take 3 parameters, day, month, year (3 numbers that make a valid date) and will create, and return a new date.  The caller will print the date."
      ]
    },
    {
      "cell_type": "code",
      "metadata": {
        "id": "FbOFnTwnWILN",
        "colab": {
          "base_uri": "https://localhost:8080/"
        },
        "outputId": "45f4d79f-f49c-4201-a57b-4c60246bd75d"
      },
      "source": [
        "#create a date with passed day,month,year\n",
        "from datetime import date\n",
        "def create_new_date(year,month,day):\n",
        "  x=date(year,month,day)\n",
        "  return x\n",
        "\n",
        "date=create_new_date(2020,2,22)\n",
        "print(date)"
      ],
      "execution_count": null,
      "outputs": [
        {
          "output_type": "stream",
          "text": [
            "2020-02-22\n"
          ],
          "name": "stdout"
        }
      ]
    },
    {
      "cell_type": "markdown",
      "metadata": {
        "id": "f5SKVuE0WfcE"
      },
      "source": [
        "---\n",
        "### Exercise 5 - create a valid date\n",
        "\n",
        "Write a function that will take 3 parameters, day, month, year (3 numbers) and will:  \n",
        "*   check that the month is between 1 and 12  \n",
        "*   check that the day is valid for the month (e.g. if the month is 2, then the day must be between 1 and 28 (don't worry about leap years for the moment)  \n",
        "*   if the date is not valid, print an error message and return None (which the caller will print)  \n",
        "*   if the date is valid, store it in a new variable, return the variable and the caller will print it."
      ]
    },
    {
      "cell_type": "code",
      "metadata": {
        "id": "gclt-f9-XfdG",
        "colab": {
          "base_uri": "https://localhost:8080/"
        },
        "outputId": "8a157efe-fd77-44ff-cae8-d095ec44ff3c"
      },
      "source": [
        "#create a valid date with passed day,month,year\n",
        "from datetime import date\n",
        "def create_new_date(year,month,day):\n",
        "  if (month in [1,3,5,7,8,10,12] and day<=31) or (month in [4,6,9,11] and day<=30) or (month==2 and day<=28):\n",
        "    x=date(year,month,day)\n",
        "    return x\n",
        "  else:\n",
        "    print(\"Invalid date\")\n",
        "\n",
        "date=create_new_date(2020,3,11)\n",
        "print(date)"
      ],
      "execution_count": null,
      "outputs": [
        {
          "output_type": "stream",
          "text": [
            "2020-03-11\n"
          ],
          "name": "stdout"
        }
      ]
    },
    {
      "cell_type": "markdown",
      "metadata": {
        "id": "js7fy2HWXfm2"
      },
      "source": [
        "---\n",
        "### Exercise 6 - is it a leap year?\n",
        "\n",
        "Write a function that will take a date as a parameter (you will need to create the date variable before calling the function) and will determine if it is a leap year, returning True or False.\n",
        "\n",
        "*Hint:  a leap year is a year that is divisible by 4 but the centuries (1900, 2000, etc are only leap years if they are divisible by 400)*"
      ]
    },
    {
      "cell_type": "code",
      "metadata": {
        "id": "KY1jtf3lX_ps",
        "colab": {
          "base_uri": "https://localhost:8080/"
        },
        "outputId": "7e6e32d1-533d-4f44-99d6-a523304adfc3"
      },
      "source": [
        "from datetime import datetime\n",
        "def is_leap_year(date_to_check):\n",
        "  # add your code below here\n",
        "  year=date_to_check.year\n",
        "  if year%4==0:\n",
        "    boolean=True\n",
        "  else:\n",
        "    boolean=False\n",
        "  return boolean\n",
        "\n",
        "\n",
        "\n",
        "check_date = datetime(1996,12,15)\n",
        "if is_leap_year(check_date):\n",
        "  print(check_date.strftime(\"%Y\"), \"is a leap year\")\n",
        "else:\n",
        "  print(check_date.strftime(\"%Y\"), \"is not a leap year\")"
      ],
      "execution_count": null,
      "outputs": [
        {
          "output_type": "stream",
          "text": [
            "1996 is a leap year\n"
          ],
          "name": "stdout"
        }
      ]
    },
    {
      "cell_type": "markdown",
      "metadata": {
        "id": "9BuRDi08YAO0"
      },
      "source": [
        "---\n",
        "### Exercise 7 - display parts of date/time\n",
        "\n",
        "Write a function that will take a date and print from it the following:  \n",
        "*  given date and time  \n",
        "*  year (in full) \n",
        "*  month (as a number) \n",
        "*  month name \n",
        "*  week number of the year  \n",
        "*  weekday of the week (as a number)  \n",
        "*  day of year  \n",
        "*  day of the month  \n",
        "*  day of week (as a name)  \n",
        "\n",
        "*Hint:  see w3Schools for [strftime reference](https://www.w3schools.com/python/python_datetime.asp)*\n",
        "\n"
      ]
    },
    {
      "cell_type": "code",
      "metadata": {
        "id": "zl-37Ez9ahym",
        "colab": {
          "base_uri": "https://localhost:8080/"
        },
        "outputId": "011ebbc2-8072-4b8b-d32c-7537b3fcb424"
      },
      "source": [
        "#display parts of date/time\n",
        "from datetime import datetime\n",
        "def display_date_parts(date_to_check):\n",
        "  print(\"Given date:\",date_to_check)\n",
        "  print(\"Year:\",date_to_check.year)\n",
        "  print(\"Month in number:\",date_to_check.month)\n",
        "  print(\"Month name:\",date_to_check.strftime(\"%B\"))\n",
        "  print(\"Week number of the year:\",date_to_check.strftime(\"%U\"))\n",
        "  print(\"Weekday of the week in number:\",date_to_check.strftime(\"%w\"))\n",
        "  print(\"Day of the year:\",date_to_check.strftime(\"%j\"))\n",
        "  print(\"Day of the month:\",date_to_check.strftime(\"%d\"))\n",
        "  print(\"Day of the week as name:\",date_to_check.strftime(\"%A\"))\n",
        "\n",
        "\n",
        "\n",
        "\n",
        "\n",
        "\n",
        "check_date=datetime(1998,12,23)\n",
        "display_date_parts(check_date)\n",
        "\n",
        "  \n",
        "\n"
      ],
      "execution_count": null,
      "outputs": [
        {
          "output_type": "stream",
          "text": [
            "Given date: 1998-12-23 00:00:00\n",
            "Year: 1998\n",
            "Month in number: 12\n",
            "Month name: December\n",
            "Week number of the year: 51\n",
            "Weekday of the week in number: 3\n",
            "Day of the year: 357\n",
            "Day of the month: 23\n",
            "Day of the week as name: Wednesday\n"
          ],
          "name": "stdout"
        }
      ]
    },
    {
      "cell_type": "markdown",
      "metadata": {
        "id": "_rpTIoSDaiBj"
      },
      "source": [
        "---\n",
        "### Exercise 8 - next 6 days\n",
        "\n",
        "Write a function that will take a date and generate the dates of the following 6 days.  It should print each of the 6 days in the form:  \n",
        "\n",
        "DAY OF THE WEEK, MONTH NAME, FULL YEAR\n",
        "\n",
        "Hint:  to generate the days, use the function datetime.timedelta(), there is a good example of its use [here](https://www.geeksforgeeks.org/python-datetime-timedelta-function/)  "
      ]
    },
    {
      "cell_type": "code",
      "metadata": {
        "id": "1d-oXqLLb0vX",
        "colab": {
          "base_uri": "https://localhost:8080/"
        },
        "outputId": "37bde9f0-9a3e-47f1-8c21-ef0654860c08"
      },
      "source": [
        "#Print dates of the 6 days followed by given date\n",
        "from datetime import timedelta,datetime\n",
        "def generate_nextSix_days(date_passed):\n",
        "  #ini_time_for_now + timedelta(days = 730)\n",
        "  for i in range(1,7):\n",
        "    new_date=date_passed+timedelta(days=i)\n",
        "    print(new_date)\n",
        "    print(\"Day of the week:\",new_date.strftime(\"%w\"),\",Month:\",new_date.strftime(\"%B\"),\",Year:\",new_date.year)\n",
        "\n",
        "\n",
        "date=datetime(2020,12,28)\n",
        "generate_nextSix_days(date)\n",
        "  \n"
      ],
      "execution_count": null,
      "outputs": [
        {
          "output_type": "stream",
          "text": [
            "2020-12-29 00:00:00\n",
            "Day of the week: 2 ,Month: December ,Year: 2020\n",
            "2020-12-30 00:00:00\n",
            "Day of the week: 3 ,Month: December ,Year: 2020\n",
            "2020-12-31 00:00:00\n",
            "Day of the week: 4 ,Month: December ,Year: 2020\n",
            "2021-01-01 00:00:00\n",
            "Day of the week: 5 ,Month: January ,Year: 2021\n",
            "2021-01-02 00:00:00\n",
            "Day of the week: 6 ,Month: January ,Year: 2021\n",
            "2021-01-03 00:00:00\n",
            "Day of the week: 0 ,Month: January ,Year: 2021\n"
          ],
          "name": "stdout"
        }
      ]
    },
    {
      "cell_type": "markdown",
      "metadata": {
        "id": "22Rhwx2Sb1Ey"
      },
      "source": [
        "---\n",
        "### Optional extra practice\n",
        "\n",
        "There are some similar and some more challenging exercises [here](https://www.w3resource.com/python-exercises/date-time-exercise/) if you would like to practice more. The site has its own editor."
      ]
    }
  ]
}