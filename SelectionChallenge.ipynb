{
  "nbformat": 4,
  "nbformat_minor": 0,
  "metadata": {
    "colab": {
      "name": "SelectionChallenge.ipynb",
      "provenance": [],
      "collapsed_sections": [],
      "include_colab_link": true
    },
    "kernelspec": {
      "name": "python3",
      "display_name": "Python 3"
    }
  },
  "cells": [
    {
      "cell_type": "markdown",
      "metadata": {
        "id": "view-in-github",
        "colab_type": "text"
      },
      "source": [
        "<a href=\"https://colab.research.google.com/github/Bageshri123/Data-Science---Python/blob/main/SelectionChallenge.ipynb\" target=\"_parent\"><img src=\"https://colab.research.google.com/assets/colab-badge.svg\" alt=\"Open In Colab\"/></a>"
      ]
    },
    {
      "cell_type": "markdown",
      "metadata": {
        "id": "-QxAKPD8DZfj"
      },
      "source": [
        "# Three selection challenges\n",
        "\n",
        "---\n"
      ]
    },
    {
      "cell_type": "markdown",
      "metadata": {
        "id": "2KYUALILDcM9"
      },
      "source": [
        "### Challenge 1 - password format  \n",
        "\n",
        "Write a function called **check_password_valid()** which will check the validity of a **password** input by a user.\n",
        "\n",
        "Rules for a valid password are:  \n",
        "\n",
        "*  At least 1 letter between [a-z] and 1 letter between [A-Z].\n",
        "*  At least 1 number between [0-9].\n",
        "*  At least 1 character from [$#@].\n",
        "*  Minimum length 6 characters.\n",
        "*  Maximum length 16 characters.  \n",
        "\n",
        "Let the user know if the `password` they have typed is valid and, if not, where was the first error.\n",
        "\n",
        "*Hint:  to test if a set of characters is present in a password String, you can use re.search([character set], `password`)*  \n",
        "\n",
        "Example:   \n",
        "*if re.search([a-z],`password`):*    \n",
        "this will be True if there is at least 1 character a-z in the password.\n",
        "\n",
        "**re** is a pre-written Python function for pattern searching in Strings.  It has been imported for you in the code cell below.  "
      ]
    },
    {
      "cell_type": "code",
      "metadata": {
        "id": "8wBK9IA4BO2e",
        "colab": {
          "base_uri": "https://localhost:8080/"
        },
        "outputId": "d13c91f1-34af-4b3e-f46f-fb3f0e678506"
      },
      "source": [
        "import re\n",
        "\n",
        "# add your check_PasswordValid() function and call below here\n",
        "def check_PasswordValid():\n",
        "  password=input(\"Enter a password:\")\n",
        "  if re.search(\"[A-Z]\",password):\n",
        "    if re.search(\"[a-z]\",password):\n",
        "      if re.search(\"[0-9]\",password):\n",
        "        if re.search(\"[$#@]\",password):\n",
        "          if len(password)>=6:\n",
        "            if len(password)<=16:\n",
        "              print(\"That's a valid password.\")\n",
        "            else:\n",
        "              print(\"Your password is too long\")\n",
        "          else:\n",
        "            print(\"Your password is too short\")\n",
        "        else:\n",
        "         \n",
        "         print(\"Password should have one of these symbols: $,@,#\")\n",
        "      else:\n",
        "        print(\"Your password should have atleast one number.\")\n",
        "    else:\n",
        "      print(\"Your password should have atleast one small letter.\")\n",
        "  else:\n",
        "     print(\"Your password should have atleast one capital letter.\")\n",
        "\n",
        "\n",
        "check_PasswordValid()\n",
        "              \n",
        "\n"
      ],
      "execution_count": 23,
      "outputs": [
        {
          "output_type": "stream",
          "text": [
            "Enter a password:Bageshri123$\n",
            "VAlid\n"
          ],
          "name": "stdout"
        }
      ]
    },
    {
      "cell_type": "markdown",
      "metadata": {
        "id": "f0R4GYTEFQS-"
      },
      "source": [
        "---\n",
        "### Challenge 2 - triangle shape  \n",
        "\n",
        "Write a function called **evaluate_triangle_shape()** which will check if a triangle is equilateral, isosceles or scalene, based on the three side lengths entered by a user (**x**, **y** and **z**.\n",
        "\n",
        "An equilateral triangle is a triangle in which all three sides are equal.\n",
        "A scalene triangle is a triangle that has three unequal sides.\n",
        "An isosceles triangle is a triangle with (at least) two equal sides.\n",
        "\n",
        "For example:  \n",
        "A triange with side lengths                                 \n",
        "x: 6                                                                    \n",
        "y: 8                                                                    \n",
        "z: 12                                                                   \n",
        "is a *Scalene triangle*\n",
        "\n",
        "A triangle with side lengths\n",
        "x:5  \n",
        "y:3   \n",
        "z:5  \n",
        "is an *Isosceles triangle*"
      ]
    },
    {
      "cell_type": "code",
      "metadata": {
        "id": "oBgl4ro1DVL0",
        "colab": {
          "base_uri": "https://localhost:8080/"
        },
        "outputId": "676ecda9-09b7-4783-df1d-769e61362cc1"
      },
      "source": [
        "def evaluate_triangle_shape():\n",
        "  x=float(input(\"Enter first side of triangle:\"))\n",
        "  y=float(input(\"Enter second side of triangle:\"))\n",
        "  z=float(input(\"Enter third side of triangle:\"))\n",
        "  if x==y: \n",
        "    if y==z:\n",
        "     print(\"The triangle is equilateral.\")\n",
        "    else:\n",
        "      print(\"The triangle is isosceles.\")\n",
        "  elif y==z or x==z:\n",
        "      print(\"The triangle is isosceles.\")\n",
        "  else:\n",
        "    print(\"The triangle is scalene.\")\n",
        "\n",
        "\n",
        "evaluate_triangle_shape()"
      ],
      "execution_count": 43,
      "outputs": [
        {
          "output_type": "stream",
          "text": [
            "Enter first side of triangle:67\n",
            "Enter second side of triangle:78\n",
            "Enter third side of triangle:78\n",
            "The triangle is isosceles.\n"
          ],
          "name": "stdout"
        }
      ]
    },
    {
      "cell_type": "markdown",
      "metadata": {
        "id": "hr2EotkqG33l"
      },
      "source": [
        "---\n",
        "### Challenge 3 - which season\n",
        "\n",
        "Write a function called **determine_season()** which will ask the user to enter two integers representing a **month** and **day** and prints the season for that month and day.\n",
        "\n",
        "Note:  for this exercise the season dates are:\n",
        "*  Winter December 21 to March 20    \n",
        "*  Spring March 21 to June 20  \n",
        "*  Summer June 21 to September 20  \n",
        "*  Autumn September 21 to December 20\n",
        "\n",
        "Test input:  \n",
        "Input the month (e.g. January, February etc.): 7                     \n",
        "Input the day: 31                                                       \n",
        "\n",
        "Expected output:  \n",
        "Season is summer \n",
        "\n",
        "*Note: this will require multiple and or or operators and you should use brackets to help Python know which operations to do first*  \n",
        "\n",
        "*For an extra challenge you can check that the day is valid for the month*"
      ]
    },
    {
      "cell_type": "code",
      "metadata": {
        "id": "cvbfz8nzG4IL",
        "colab": {
          "base_uri": "https://localhost:8080/"
        },
        "outputId": "db92f9b8-4301-4c5e-b419-c79664ad1b73"
      },
      "source": [
        "def determine_season():\n",
        "  month=int(input(\"Enter the number of month:\"))\n",
        "  date=int(input(\"Enter the date:\"))\n",
        "  if (month in [1,3,5,7,8,10,12]and date<31) or (month in [4,6,9,11] and date<30) or (month==2 and date<=29):\n",
        "    if (month==12 and date>=21) or month==1 or month==2 or (month==3 and date<=20):\n",
        "      print(\"Winter\")\n",
        "    elif (month==3 and date>=21) or month==4 or month==5 or (month==6 and date<=20):\n",
        "      print(\"Spring\")\n",
        "    elif (month==6 and date>=21) or month==7 or month==8 or (month==9 and date<=20):\n",
        "      print(\"Summer\")\n",
        "    else:\n",
        "      print(\"Autumn\")\n",
        "  else:\n",
        "    print(\"Date is invalid.\")\n",
        "\n",
        "\n",
        "determine_season()\n"
      ],
      "execution_count": 51,
      "outputs": [
        {
          "output_type": "stream",
          "text": [
            "Enter the number of month:2\n",
            "Enter the date:29\n",
            "Winter\n"
          ],
          "name": "stdout"
        }
      ]
    }
  ]
}