{
  "nbformat": 4,
  "nbformat_minor": 0,
  "metadata": {
    "colab": {
      "name": "Copy of Worksheet - Dictionaries.ipynb",
      "provenance": [],
      "include_colab_link": true
    },
    "kernelspec": {
      "name": "python3",
      "display_name": "Python 3"
    },
    "language_info": {
      "name": "python"
    }
  },
  "cells": [
    {
      "cell_type": "markdown",
      "metadata": {
        "id": "view-in-github",
        "colab_type": "text"
      },
      "source": [
        "<a href=\"https://colab.research.google.com/github/Bageshri123/Data-Science---Python/blob/main/Copy_of_Worksheet_Dictionaries.ipynb\" target=\"_parent\"><img src=\"https://colab.research.google.com/assets/colab-badge.svg\" alt=\"Open In Colab\"/></a>"
      ]
    },
    {
      "cell_type": "markdown",
      "metadata": {
        "id": "AiiF1h2X4PHP"
      },
      "source": [
        ";# Dictionaries\n",
        "\n",
        "---\n",
        "\n",
        "A **dictionary** is a collection of dissimilar data stored together in one *record*. Each item of data has a  (or key) that describes its paired value.  \n",
        "\n",
        "Create a dictionary object by declaring the set of keys and values, e.g.:\n",
        "\n",
        "```\n",
        "   transport = {\n",
        "       \"type\":\"bus\",\n",
        "       \"numPassengers\":72,\n",
        "       \"colour\":\"blue\",\n",
        "       \"fuel\":\"diesel\"\n",
        "   }\n",
        "```\n",
        "\n",
        "To access a value in a dictionary, use its key:  \n",
        "\n",
        "```\n",
        "transport[\"type\"] = \"coach\"\n",
        "transport_type = transport[\"type\"]\n",
        "transport_colour = transport[\"colour\"]\n",
        "transport[\"fuel\"] = petrol\n",
        "```\n",
        "\n",
        "To add a new key/value pair to a dictionary, simply assign a value to a new key:  \n",
        "```\n",
        "transport[\"seats\"] = 54\n",
        "```\n",
        "\n",
        "The transport dictionary will now look like this:  \n",
        "```\n",
        "   transport = {\n",
        "       \"type\":\"bus\",\n",
        "       \"numPassengers\":72,\n",
        "       \"colour\":\"blue\",\n",
        "       \"fuel\":\"diesel\",\n",
        "       \"seats\":54\n",
        "   }\n",
        "```\n",
        "\n"
      ]
    },
    {
      "cell_type": "markdown",
      "metadata": {
        "id": "1uZ5kNWB6CqK"
      },
      "source": [
        "---\n",
        "### Exercise 1 - print dictionary\n",
        "\n",
        "Write a function which will:  \n",
        "\n",
        "*  create an empty dictionary for a person (name, age and postcode, with values \"\", 0 and \"\")\n",
        "*  ask the user for name, age and postcode and assign the values to the correct keys in the dictionary  \n",
        "*  print the dictionary\n",
        "\n",
        "Test input:  \n",
        "Jack Jones  \n",
        "16  \n",
        "AB5 3DF  \n",
        "\n",
        "Expected output:  \n",
        "[\"name\":\"Jack Jones\", \"age\":16, \"postcode\":\"AB5 3DF\"]"
      ]
    },
    {
      "cell_type": "code",
      "metadata": {
        "id": "Ac7VQTj94Mrc",
        "colab": {
          "base_uri": "https://localhost:8080/"
        },
        "outputId": "4363ab13-ad9e-415e-be33-2c2ba7633ed0"
      },
      "source": [
        "def print_dict():\n",
        "  person_details={\"name\":\"\", \"age\":0,\"postcode\":\"\"}\n",
        "  name=input(\"Enter your name:\")\n",
        "  age=input(\"Enter your age:\")\n",
        "  postcode=input(\"Enter your postcode:\")\n",
        "  person_details[\"name\"]=name\n",
        "  person_details[\"age\"]=age\n",
        "  person_details[\"postcode\"]=postcode\n",
        "  print(person_details)\n",
        "\n",
        "\n",
        "print_dict()\n"
      ],
      "execution_count": null,
      "outputs": [
        {
          "output_type": "stream",
          "text": [
            "Enter your name:abc\n",
            "Enter your age:34\n",
            "Enter your postcode:eh12 7lt\n",
            "{'name': 'abc', 'age': '34', 'postcode': 'eh12 7lt'}\n"
          ],
          "name": "stdout"
        }
      ]
    },
    {
      "cell_type": "markdown",
      "metadata": {
        "id": "0OtNqNKv7WKm"
      },
      "source": [
        "---\n",
        "### Exercise 2 - create a dictionary\n",
        "\n",
        "Write a function that will create two dictionaries,without values:  \n",
        "\n",
        "1.  person (with keys firstname, surname, birthdate, postcode)  \n",
        "2.  car (with key/value pairs as follows:  make - Vauxhall, model - Corsa, engineSize - 1199, fuelType - unleaded, num_doors - 4)  \n",
        "\n",
        "*   ask the user to enter the values for the person dictionary  \n",
        "*   print, on one line, the person's name from the person dictionary and the make of the car from the car dictionary.\n",
        "\n",
        "Test input:  \n",
        "Jack  \n",
        "Jones  \n",
        "2005/02/02    \n",
        "AB5 3DF  \n",
        "\n",
        "Expected output:  \n",
        "Jack Jones Vauxhall"
      ]
    },
    {
      "cell_type": "code",
      "metadata": {
        "id": "ZyqhaBCC-GdI",
        "colab": {
          "base_uri": "https://localhost:8080/"
        },
        "outputId": "bfb5e910-e9a1-4a1b-c8f4-544909306256"
      },
      "source": [
        "def print_dict_values():\n",
        "  person_details={\"firstname\":\"\",\"surname\":\"\",\"birthdate\":\"\",\"postcode\":\"\"}\n",
        "  car_details={\"make\":\"Vauxhall\", \"model\":\"Corsa\",\"engineSize\":1199, \"fuelType\":\"unleaded\",\"num_doors\":4}\n",
        "  person_details[\"firstname\"]=input(\"Enter your firstname:\")\n",
        "  person_details[\"surname\"]=input(\"Enter your surname:\")\n",
        "  person_details[\"birthdate\"]=input(\"Enter your birthdate:\")\n",
        "  person_details[\"postcode\"]=input(\"Enter your postcode:\")\n",
        "  print(person_details[\"firstname\"],person_details[\"surname\"],car_details[\"make\"])\n",
        "\n",
        "\n",
        "print_dict_values()\n",
        "  "
      ],
      "execution_count": null,
      "outputs": [
        {
          "output_type": "stream",
          "text": [
            "Enter your firstname:Jack\n",
            "Enter your surname:Jones\n",
            "Enter your birthdate:23/12/1998\n",
            "Enter your postcode:AB3 4TH\n",
            "Jack Jones Vauxhall\n"
          ],
          "name": "stdout"
        }
      ]
    },
    {
      "cell_type": "markdown",
      "metadata": {
        "id": "gYuuOUYw-G4I"
      },
      "source": [
        "---\n",
        "### Exercise 3 - check dictionary values\n",
        "\n",
        "Write a new function which will:\n",
        "\n",
        "*  set up the same two dictionaries as in Exercise 2  \n",
        "*  ask the user to enter the details to complete the person record  \n",
        "*  calculate the person's age  \n",
        "*  if the person is under 17 then print a message to say that they can't buy a car as they are too young to drive\n",
        "*  else if the person is under 25 then print a message to say that an engine size under 1200 is recommended  \n",
        "*  ask the user to enter the make of car that the person is looking for  \n",
        "*  if the user enters the same make as that stored in the car record, then print a message to say that you have one car of that make in stock and print all the details of the car that you have the record for\n",
        "*  else (if the user enters any other car make) then print a message to say sorry that you don't have any cars of that make in stock\n",
        "*  print a message to say that the user can get more details for stockist in the <user's postcode> area if they call 01234567890\n",
        "*  print a message to say \"Thank you <user's name> for using our site\"  \n",
        "\n",
        "Test input:  \n",
        "Jack  \n",
        "Jones  \n",
        "2005/02/02  \n",
        "AB5 3DF  \n",
        "Vauxhall  \n",
        "\n",
        "Expected output:  \n",
        "You are too young to drive\n",
        "\n",
        "Test input:  \n",
        "John  \n",
        "Jones  \n",
        "2003/02/02  \n",
        "AB5 3DF  \n",
        "Vauxhall \n",
        "\n",
        "Expected output:  \n",
        "An engine size under 1200 is recommended  \n",
        "We have one Vauxhall in stock, details:  \n",
        "Make - Vauxhall    \n",
        "Model - Corsa    \n",
        "Engine size - 1199  \n",
        "Fuel type - unleaded   \n",
        "Number of doors - 4  \n",
        "You can get more details of stockists near AB5 3DF on 01234567890  \n",
        "Thank you John Jones for using our site.     \n",
        "\n",
        "Test input:  \n",
        "John  \n",
        "Jones  \n",
        "2003/02/02  \n",
        "AB5 3DF  \n",
        "Ford  \n",
        "\n",
        "Expected output:  \n",
        "An engine size under 1200 is recommended  \n",
        "Sorry, we don't have any of that make in stock  \n"
      ]
    },
    {
      "cell_type": "code",
      "metadata": {
        "colab": {
          "base_uri": "https://localhost:8080/"
        },
        "id": "FOpOtHH9tO9-",
        "outputId": "1f58e6d9-a059-4e19-dbd3-aa33975cb366"
      },
      "source": [
        "import datetime\n",
        "def check_dict_values():\n",
        "  person_details={\"firstname\":\"\",\"surname\":\"\",\"birthdate\":\"\",\"postcode\":\"\"}\n",
        "  car_details={\"make\":\"Vauxhall\", \"model\":\"Corsa\",\"engineSize\":1199, \"fuelType\":\"unleaded\",\"num_doors\":4}\n",
        "  person_details[\"firstname\"]=input(\"Enter your firstname:\")\n",
        "  person_details[\"surname\"]=input(\"Enter your surname:\")\n",
        "  person_details[\"birthdate\"]=input(\"Enter your birthdate:\")\n",
        "  person_details[\"birthdate\"] = datetime.datetime.strptime(person_details[\"birthdate\"], '%Y/%m/%d') # to convert string object to date object\n",
        "  person_details[\"postcode\"]=input(\"Enter your postcode:\")\n",
        "\n",
        "  person_age=date.today().year-person_details[\"birthdate\"].year \n",
        "\n",
        "  if date.today().month<person_details[\"birthdate\"].month or (date.today().month==person_details[\"birthdate\"].month and date.today().day<person_details[\"birthdate\"].day):\n",
        "    person_age-=1 #to check if person's birthday is yet to pass\n",
        "  \n",
        "  if person_age<17:\n",
        "    print(\"You are too young to drive\")\n",
        "    return\n",
        "  elif person_age<25:\n",
        "    print(\"\\nAn engine size under 1200 is recommended. \")\n",
        "\n",
        "  makeOfCar=input(\"\\nEnter make of the car you are looking for:\")\n",
        "  if makeOfCar==car_details[\"make\"]:\n",
        "    print(\"\\nWe have one Vauxhall in stock. Details:\")\n",
        "    print(\"Model - Corsa\\nEngine size - 1199\")\n",
        "    print(\"Fuel type - unleaded\\nNumber of doors - 4\\nYou can get more details of stockists near\",person_details[\"postcode\"],\"on 01234567890\")                       \n",
        "    print(\"Thank you\",person_details[\"firstname\"],person_details[\"surname\"],\"for using our site.\")\n",
        "  else:\n",
        "    print(\"Sorry,we don't have any car of that make in stock.\")\n",
        "\n",
        "\n",
        "  \n",
        "\n",
        "\n",
        "check_dict_values()"
      ],
      "execution_count": null,
      "outputs": [
        {
          "output_type": "stream",
          "text": [
            "Enter your firstname:Jack\n",
            "Enter your surname:Jones\n",
            "Enter your birthdate:2003/02/02\n",
            "Enter your postcode:AB3 3DF\n",
            "\n",
            "An engine size under 1200 is recommended. \n",
            "\n",
            "Enter make of the car you are looking for:Vauxhall\n",
            "\n",
            "We have one Vauxhall in stock. Details:\n",
            "Model - Corsa\n",
            "Engine size - 1199\n",
            "Fuel type - unleaded\n",
            "Number of doors - 4\n",
            "You can get more details of stockists near AB3 3DF on 01234567890\n",
            "Thank you Jack Jones for using our site.\n"
          ],
          "name": "stdout"
        }
      ]
    },
    {
      "cell_type": "markdown",
      "metadata": {
        "id": "I6dUiRwn7Gkg"
      },
      "source": [
        "---\n",
        "### Exercise 4 - print keys and values\n",
        "\n",
        "Two dictionaries have been created below.  You can print a list of the dictionary's keys using dictionary_name.keys() and the values using dictionary_name.values()\n",
        "\n",
        "Write a function which will accept a dictionary as a parameter and will:  \n",
        "*  print the dictionary keys as a list  \n",
        "*  print the dictionary values as a list\n",
        "\n",
        "Expected Output\n",
        "\n",
        "['Andy', 'Angela']\n",
        "[25, 55]\n",
        "['Andy', 'Angela']\n",
        "[58, 72]  \n",
        "\n",
        "\n",
        "\n"
      ]
    },
    {
      "cell_type": "code",
      "metadata": {
        "id": "FApOckhJEsMs",
        "colab": {
          "base_uri": "https://localhost:8080/"
        },
        "outputId": "34d248d7-b260-4d30-a305-5df6a1d93ad4"
      },
      "source": [
        "def display_dictionary(scores):\n",
        "  #  add your code below this line\n",
        "  print(list(scores.keys()),list(scores.values()))\n",
        "\n",
        "\n",
        "english_scores = {'Andy': 95, 'Angela': 53}\n",
        "maths_scores = {'Andy': 58, 'Angela': 72}\n",
        "display_dictionary(english_scores)\n",
        "display_dictionary(maths_scores)"
      ],
      "execution_count": null,
      "outputs": [
        {
          "output_type": "stream",
          "text": [
            "['Andy', 'Angela'] [95, 53]\n",
            "['Andy', 'Angela'] [58, 72]\n"
          ],
          "name": "stdout"
        }
      ]
    },
    {
      "cell_type": "markdown",
      "metadata": {
        "id": "segSpkmBFSJl"
      },
      "source": [
        "---\n",
        "### Exercise 5 - add field\n",
        "\n",
        "Write a function which will:\n",
        "\n",
        "*  create a new dictionary called science with values of 0 for both Angela and Andy\n",
        "*  update Andy's score for science to 73 and Angela's score to 73   \n",
        "*  create a new key/value pair by adding another learner to the science  dictionary (George has a score of 55)    \n",
        "*  print the science dictionary to check results  \n",
        "\n",
        "Expected Output\n",
        "\n",
        "{'Andy': 73, 'Angela': 73, 'George': 55}"
      ]
    },
    {
      "cell_type": "code",
      "metadata": {
        "id": "BL1JM-Z7Gttf",
        "colab": {
          "base_uri": "https://localhost:8080/"
        },
        "outputId": "2b8e80ef-13d6-4451-be95-8150048530c1"
      },
      "source": [
        "def create_sci_dict():\n",
        "  science_score={'Andy':0,'Angela':0}\n",
        "  science_score[\"Andy\"]=73\n",
        "  science_score[\"Angela\"]=73\n",
        "  science_score[\"George\"]=55\n",
        "  print(science_score)\n",
        "\n",
        "\n",
        "create_sci_dict()\n"
      ],
      "execution_count": null,
      "outputs": [
        {
          "output_type": "stream",
          "text": [
            "{'Andy': 73, 'Angela': 73, 'George': 55}\n"
          ],
          "name": "stdout"
        }
      ]
    },
    {
      "cell_type": "markdown",
      "metadata": {
        "id": "_Vzv0zlHGt-C"
      },
      "source": [
        "---\n",
        "### Exercise 6 - loop through keys/value pairs\n",
        "\n",
        "Write a function which will use a *for* loop to print the each key/value pair in the science dictionary (recreate this dictionary in this function) \n",
        "\n",
        "*(Hint: you can iterate through the key/value pairs in the dictionary in the same way as you iterate through a loop (e.g. for record in dictionary) and print the record (which is the key) and its value)*\n",
        "\n",
        "Expected output:  \n",
        "\n",
        "Angela 72  \n",
        "Andy 72  \n",
        "George 55  "
      ]
    },
    {
      "cell_type": "code",
      "metadata": {
        "id": "JL40_-W-Hxnt",
        "colab": {
          "base_uri": "https://localhost:8080/"
        },
        "outputId": "e7f6f719-0f88-4fee-a201-67f2de6d3428"
      },
      "source": [
        "def print_dict_items():\n",
        "  science_score={'Andy':73,'Angela':73,'George':55}\n",
        "  for key,value in science_score.items():\n",
        "    print(key,value)\n",
        "\n",
        "\n",
        "print_dict_items()\n"
      ],
      "execution_count": 10,
      "outputs": [
        {
          "output_type": "stream",
          "text": [
            "Andy 73\n",
            "Angela 73\n",
            "George 55\n"
          ],
          "name": "stdout"
        }
      ]
    },
    {
      "cell_type": "markdown",
      "metadata": {
        "id": "G9wamxzRJdrE"
      },
      "source": [
        "---\n",
        "### Exercise 7 - generate new dictionary  \n",
        "\n",
        "Write a functions which will:\n",
        "*  create a new dictionary where the keys are numbers between 1 and 15 (both included) and the values are square of keys\n",
        "*  print the dictionary\n",
        "\n",
        "Expected output:  \n",
        "{1: 1, 2: 4, 3: 9, 4: 16, 5: 25, 6: 36, 7: 49, 8: 64, 9: 81, 10: 100, 11: 121, 12: 144, 13: 169, 14: 196, 15: 225}"
      ]
    },
    {
      "cell_type": "code",
      "metadata": {
        "id": "1-LI-LVrJ--N",
        "colab": {
          "base_uri": "https://localhost:8080/"
        },
        "outputId": "70701bc1-520d-4533-9d88-2d8a6da8157d"
      },
      "source": [
        "def generate_dict_sqNumbers():\n",
        "  squares={}\n",
        "  for i in range(1,16):\n",
        "    squares[i]=i*i\n",
        "\n",
        "  print(squares)\n",
        "\n",
        "generate_dict_sqNumbers()"
      ],
      "execution_count": 12,
      "outputs": [
        {
          "output_type": "stream",
          "text": [
            "{1: 1, 2: 4, 3: 9, 4: 16, 5: 25, 6: 36, 7: 49, 8: 64, 9: 81, 10: 100, 11: 121, 12: 144, 13: 169, 14: 196, 15: 225}\n"
          ],
          "name": "stdout"
        }
      ]
    },
    {
      "cell_type": "markdown",
      "metadata": {
        "id": "t0y4mefwJ_jQ"
      },
      "source": [
        "---\n",
        "### Exercise 8 - colour dictionary  \n",
        "\n",
        "Write a function which will:  \n",
        "*  create a new dictionary record called colour_codes with the values 'red' - '#FF0000', 'green' - '#008000', 'black' - '#000000', 'white' - '#FFFFFF'\n",
        "*  add a new colour code:  'blue' - '#0000FF'    \n",
        "*  remove the colours black and white from the dictionary  \n",
        "\n",
        "*Hint:  there is a list of methods [here](https://www.w3schools.com/python/python_ref_dictionary.asp)*  "
      ]
    },
    {
      "cell_type": "code",
      "metadata": {
        "id": "yod1mUNOMeWg",
        "colab": {
          "base_uri": "https://localhost:8080/"
        },
        "outputId": "9f146bf9-cec7-48bf-877b-712df54847b8"
      },
      "source": [
        "def colour_dict():\n",
        "  colour_codes={'red':'#FF0000','green':'#008000','black':'#000000','white':'#FFFFFF'}\n",
        "  print(colour_codes)\n",
        "  colour_codes['blue']='0000FF'\n",
        "  print(colour_codes)\n",
        "  colour_codes.pop(\"black\")\n",
        "  colour_codes.pop(\"white\")\n",
        "  print(colour_codes)\n",
        "\n",
        "\n",
        "\n",
        "colour_dict()"
      ],
      "execution_count": 15,
      "outputs": [
        {
          "output_type": "stream",
          "text": [
            "{'red': '#FF0000', 'green': '#008000', 'black': '#000000', 'white': '#FFFFFF'}\n",
            "{'red': '#FF0000', 'green': '#008000', 'black': '#000000', 'white': '#FFFFFF', 'blue': '0000FF'}\n",
            "{'red': '#FF0000', 'green': '#008000', 'blue': '0000FF'}\n"
          ],
          "name": "stdout"
        }
      ]
    },
    {
      "cell_type": "code",
      "metadata": {
        "colab": {
          "base_uri": "https://localhost:8080/"
        },
        "id": "2xoulncxIslA",
        "outputId": "2162967a-f885-4841-8883-f4c43457056f"
      },
      "source": [
        "def colour_dict():\n",
        "  colour_codes={'red':'#FF0000','green':'#008000','black':'#000000','white':'#FFFFFF'}\n",
        "  print(colour_codes)\n",
        "  colour_codes['blue']='0000FF'\n",
        "  print(colour_codes)\n",
        "  for i in (\"black\",\"white\"):\n",
        "    colour_codes.pop(i)\n",
        "\n",
        "  print(colour_codes)\n",
        "\n",
        "colour_dict()"
      ],
      "execution_count": 16,
      "outputs": [
        {
          "output_type": "stream",
          "text": [
            "{'red': '#FF0000', 'green': '#008000', 'black': '#000000', 'white': '#FFFFFF'}\n",
            "{'red': '#FF0000', 'green': '#008000', 'black': '#000000', 'white': '#FFFFFF', 'blue': '0000FF'}\n",
            "{'red': '#FF0000', 'green': '#008000', 'blue': '0000FF'}\n"
          ],
          "name": "stdout"
        }
      ]
    },
    {
      "cell_type": "markdown",
      "metadata": {
        "id": "gjos_0vuMeyS"
      },
      "source": [
        "---\n",
        "### Exercise 9 - item tuples  \n",
        "\n",
        "Write a function which will:  \n",
        "*  create a new dictionary containing the colour codes for red, green, blue, black and white\n",
        "*  print the key/value pairs of a dictionary as a list of tuples  \n",
        "\n",
        "*Hint:  iterate through colours.items()*"
      ]
    },
    {
      "cell_type": "code",
      "metadata": {
        "id": "EzuMkUypOKTY",
        "colab": {
          "base_uri": "https://localhost:8080/"
        },
        "outputId": "9188eaea-9482-4dde-9384-ea66ba485cd1"
      },
      "source": [
        "def print_dict_asTuples():\n",
        "  colour_codes={'red':'#FF0000','green':'#008000','blue':'0000FF','black':'#000000','white':'#FFFFFF'}\n",
        "  \n",
        "  list=[(key,value) for key,value in colour_codes.items()]\n",
        "  print(list)\n",
        "    \n",
        "\n",
        "print_dict_asTuples()\n",
        "\n"
      ],
      "execution_count": 38,
      "outputs": [
        {
          "output_type": "stream",
          "text": [
            "[('red', '#FF0000'), ('green', '#008000'), ('blue', '0000FF'), ('black', '#000000'), ('white', '#FFFFFF')]\n"
          ],
          "name": "stdout"
        }
      ]
    },
    {
      "cell_type": "markdown",
      "metadata": {
        "id": "Jw1ot10cOc6r"
      },
      "source": [
        "---\n",
        "### Exercise 10 - check if empty\n",
        "Taken from w3resouce.com  \n",
        "\n",
        "Write a function which will check if a dictionary is empty or not\n",
        "\n",
        "*Hint:  you can use bool(dictionary_name), if the dictionary is empty then bool(dictionary_name will be false)*\n",
        "\n",
        "Test 1 sample data:\n",
        "{}\n",
        "\n",
        "Expected output:\n",
        "Dictionary is empty  \n",
        "\n",
        "Test 2 sample data:  \n",
        "{\"name\":\"Groucho\", \"occupation\":\"comedian\"}\n",
        "\n",
        "Expected output:  \n",
        "Dictionary is not empty"
      ]
    },
    {
      "cell_type": "code",
      "metadata": {
        "id": "7UdM1TfwRqnt",
        "colab": {
          "base_uri": "https://localhost:8080/"
        },
        "outputId": "9a11c64d-b3df-40aa-e86b-39b151cb2560"
      },
      "source": [
        "def check_ifEmpty(dict_name):\n",
        "  boolean=bool(dict_name)\n",
        "  if str(boolean)==\"True\":\n",
        "    print(dict_name,\"is not empty.\")\n",
        "  else:\n",
        "    print(dict_name,\"is empty.\")\n",
        "    \n",
        "\n",
        "\n",
        "\n",
        "\n",
        "\n",
        "\n",
        "test1={}\n",
        "test2={'name':'Groucho','occupation':'comedian'}\n",
        "check_ifEmpty(test1)\n",
        "check_ifEmpty(test2)\n"
      ],
      "execution_count": 48,
      "outputs": [
        {
          "output_type": "stream",
          "text": [
            "{} is empty.\n",
            "{'name': 'Groucho', 'occupation': 'comedian'} is not empty.\n"
          ],
          "name": "stdout"
        }
      ]
    }
  ]
}